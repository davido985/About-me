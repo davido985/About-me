{
 "cells": [
  {
   "cell_type": "markdown",
   "id": "9de38bb1",
   "metadata": {},
   "source": [
    "### Notebook 1 Data Clean up"
   ]
  },
  {
   "cell_type": "code",
   "execution_count": 15,
   "id": "c83cf969",
   "metadata": {},
   "outputs": [],
   "source": [
    "import numpy as np \n",
    "import matplotlib.pyplot as plt\n",
    "import pandas as pd\n",
    "\n",
    "\n",
    "\n",
    "\n"
   ]
  },
  {
   "cell_type": "markdown",
   "id": "eeb6fd89",
   "metadata": {},
   "source": [
    "We start our capstone project with loading our data set. We had three csv files due to the nature of the downloading from the MLS website. We concatenate these three files into one. "
   ]
  },
  {
   "cell_type": "code",
   "execution_count": 16,
   "id": "21bd6902",
   "metadata": {},
   "outputs": [],
   "source": [
    "#Load the three csv files into three pandas dataframes.\n",
    "df = pd.read_csv('/Users/davidongtenco/Downloads/01_19-08_21 - Jan 1 2019- Aug 8 2021 (1).csv')\n",
    "df1 = pd.read_csv('/Users/davidongtenco/Downloads/01_17-12_18 - Sheet1.csv')\n",
    "df2 = pd.read_csv('/Users/davidongtenco/Downloads/09_21-10_22 - Sheet1.csv')"
   ]
  },
  {
   "cell_type": "code",
   "execution_count": 17,
   "id": "71bf39f0",
   "metadata": {},
   "outputs": [],
   "source": [
    "#Concat the three frames into one \n",
    "df_test = pd.concat([df, df1, df2], axis=0)"
   ]
  },
  {
   "cell_type": "code",
   "execution_count": 18,
   "id": "51f85be8",
   "metadata": {},
   "outputs": [
    {
     "data": {
      "text/html": [
       "<div>\n",
       "<style scoped>\n",
       "    .dataframe tbody tr th:only-of-type {\n",
       "        vertical-align: middle;\n",
       "    }\n",
       "\n",
       "    .dataframe tbody tr th {\n",
       "        vertical-align: top;\n",
       "    }\n",
       "\n",
       "    .dataframe thead th {\n",
       "        text-align: right;\n",
       "    }\n",
       "</style>\n",
       "<table border=\"1\" class=\"dataframe\">\n",
       "  <thead>\n",
       "    <tr style=\"text-align: right;\">\n",
       "      <th></th>\n",
       "      <th>Picture Count</th>\n",
       "      <th>Listing Pictures</th>\n",
       "      <th>ML #</th>\n",
       "      <th>Status</th>\n",
       "      <th>Address</th>\n",
       "      <th>City</th>\n",
       "      <th>Postal Code</th>\n",
       "      <th>S/A</th>\n",
       "      <th>Price</th>\n",
       "      <th>List Price</th>\n",
       "      <th>...</th>\n",
       "      <th>Fixtures Removed Y/N</th>\n",
       "      <th>Fixtures Remvd</th>\n",
       "      <th>Gross Taxes</th>\n",
       "      <th>Last Trans Date</th>\n",
       "      <th>Parking Places - Total</th>\n",
       "      <th>Distance to Pub/Rapid Tr</th>\n",
       "      <th>Dist to School/School Bus</th>\n",
       "      <th>Sold Price</th>\n",
       "      <th>Sold Date</th>\n",
       "      <th>Type</th>\n",
       "    </tr>\n",
       "  </thead>\n",
       "  <tbody>\n",
       "    <tr>\n",
       "      <th>0</th>\n",
       "      <td>0</td>\n",
       "      <td>//cdnparap130.paragonrels.com/ParagonImages/St...</td>\n",
       "      <td>R2328951</td>\n",
       "      <td>T</td>\n",
       "      <td>20394 82B AVENUE</td>\n",
       "      <td>Langley</td>\n",
       "      <td>V2Y 0S2</td>\n",
       "      <td>F63</td>\n",
       "      <td>$1,068,000</td>\n",
       "      <td>$1,068,000</td>\n",
       "      <td>...</td>\n",
       "      <td>No</td>\n",
       "      <td>NaN</td>\n",
       "      <td>$5,389.07</td>\n",
       "      <td>1/2/2019</td>\n",
       "      <td>4.0</td>\n",
       "      <td>NaN</td>\n",
       "      <td>NaN</td>\n",
       "      <td>NaN</td>\n",
       "      <td>NaN</td>\n",
       "      <td>House/Single Family</td>\n",
       "    </tr>\n",
       "    <tr>\n",
       "      <th>1</th>\n",
       "      <td>0</td>\n",
       "      <td>//cdnparap130.paragonrels.com/ParagonImages/St...</td>\n",
       "      <td>R2329452</td>\n",
       "      <td>T</td>\n",
       "      <td>9749 129A STREET</td>\n",
       "      <td>Surrey</td>\n",
       "      <td>V3T 3J6</td>\n",
       "      <td>F25</td>\n",
       "      <td>$1,250,000</td>\n",
       "      <td>$1,250,000</td>\n",
       "      <td>...</td>\n",
       "      <td>No</td>\n",
       "      <td>NaN</td>\n",
       "      <td>$3,102.58</td>\n",
       "      <td>5/11/2019</td>\n",
       "      <td>8.0</td>\n",
       "      <td>NaN</td>\n",
       "      <td>NaN</td>\n",
       "      <td>NaN</td>\n",
       "      <td>NaN</td>\n",
       "      <td>House/Single Family</td>\n",
       "    </tr>\n",
       "    <tr>\n",
       "      <th>2</th>\n",
       "      <td>1</td>\n",
       "      <td>//cdnparap130.paragonrels.com/ParagonImages/Pr...</td>\n",
       "      <td>R2329714</td>\n",
       "      <td>T</td>\n",
       "      <td>41 4619 QUEENSWAY DRIVE</td>\n",
       "      <td>Terrace</td>\n",
       "      <td>V8G 3X5</td>\n",
       "      <td>N88TE</td>\n",
       "      <td>$40,000</td>\n",
       "      <td>$40,000</td>\n",
       "      <td>...</td>\n",
       "      <td>No</td>\n",
       "      <td>NaN</td>\n",
       "      <td>$196.07</td>\n",
       "      <td>2/12/2019</td>\n",
       "      <td>2.0</td>\n",
       "      <td>NaN</td>\n",
       "      <td>NaN</td>\n",
       "      <td>NaN</td>\n",
       "      <td>NaN</td>\n",
       "      <td>Manufactured</td>\n",
       "    </tr>\n",
       "    <tr>\n",
       "      <th>3</th>\n",
       "      <td>1</td>\n",
       "      <td>//cdnparap130.paragonrels.com/ParagonImages/Pr...</td>\n",
       "      <td>R2329300</td>\n",
       "      <td>T</td>\n",
       "      <td>19547 THORBURN WAY</td>\n",
       "      <td>Pitt Meadows</td>\n",
       "      <td>V3Y 0B3</td>\n",
       "      <td>VPISM</td>\n",
       "      <td>$1,248,000</td>\n",
       "      <td>$1,248,000</td>\n",
       "      <td>...</td>\n",
       "      <td>Yes</td>\n",
       "      <td>ELECTRIC FIREPLACE IN MASTER BEDROOM</td>\n",
       "      <td>$5,116.27</td>\n",
       "      <td>5/24/2019</td>\n",
       "      <td>4.0</td>\n",
       "      <td>2 BLOCKS</td>\n",
       "      <td>2 BLOCKS</td>\n",
       "      <td>NaN</td>\n",
       "      <td>NaN</td>\n",
       "      <td>House/Single Family</td>\n",
       "    </tr>\n",
       "    <tr>\n",
       "      <th>4</th>\n",
       "      <td>1</td>\n",
       "      <td>//cdnparap130.paragonrels.com/ParagonImages/Pr...</td>\n",
       "      <td>R2329141</td>\n",
       "      <td>S</td>\n",
       "      <td>6107 IMPERIAL STREET</td>\n",
       "      <td>Burnaby</td>\n",
       "      <td>V5T 1G6</td>\n",
       "      <td>VBSUD</td>\n",
       "      <td>$1,250,000</td>\n",
       "      <td>$1,330,000</td>\n",
       "      <td>...</td>\n",
       "      <td>No</td>\n",
       "      <td>NaN</td>\n",
       "      <td>$5,606.00</td>\n",
       "      <td>3/6/2019</td>\n",
       "      <td>3.0</td>\n",
       "      <td>NaN</td>\n",
       "      <td>NaN</td>\n",
       "      <td>$1,250,000</td>\n",
       "      <td>2/26/2019</td>\n",
       "      <td>House/Single Family</td>\n",
       "    </tr>\n",
       "    <tr>\n",
       "      <th>...</th>\n",
       "      <td>...</td>\n",
       "      <td>...</td>\n",
       "      <td>...</td>\n",
       "      <td>...</td>\n",
       "      <td>...</td>\n",
       "      <td>...</td>\n",
       "      <td>...</td>\n",
       "      <td>...</td>\n",
       "      <td>...</td>\n",
       "      <td>...</td>\n",
       "      <td>...</td>\n",
       "      <td>...</td>\n",
       "      <td>...</td>\n",
       "      <td>...</td>\n",
       "      <td>...</td>\n",
       "      <td>...</td>\n",
       "      <td>...</td>\n",
       "      <td>...</td>\n",
       "      <td>...</td>\n",
       "      <td>...</td>\n",
       "      <td>...</td>\n",
       "    </tr>\n",
       "    <tr>\n",
       "      <th>40754</th>\n",
       "      <td>40</td>\n",
       "      <td>//cdnparap130.paragonrels.com/ParagonImages/Pr...</td>\n",
       "      <td>R2733474</td>\n",
       "      <td>S</td>\n",
       "      <td>1210 SPRICE AVENUE</td>\n",
       "      <td>Coquitlam</td>\n",
       "      <td>V3J 2P4</td>\n",
       "      <td>VCQCC</td>\n",
       "      <td>$1,620,000</td>\n",
       "      <td>$1,700,000</td>\n",
       "      <td>...</td>\n",
       "      <td>No</td>\n",
       "      <td>NaN</td>\n",
       "      <td>$4,868.41</td>\n",
       "      <td>11/1/2022</td>\n",
       "      <td>5.0</td>\n",
       "      <td>1 BLOCK</td>\n",
       "      <td>2 BLOCKS</td>\n",
       "      <td>$1,620,000</td>\n",
       "      <td>10/31/2022</td>\n",
       "      <td>House/Single Family</td>\n",
       "    </tr>\n",
       "    <tr>\n",
       "      <th>40755</th>\n",
       "      <td>20</td>\n",
       "      <td>//cdnparap130.paragonrels.com/ParagonImages/Pr...</td>\n",
       "      <td>R2733435</td>\n",
       "      <td>S</td>\n",
       "      <td>6431 UDY ROAD</td>\n",
       "      <td>Richmond</td>\n",
       "      <td>V7C 2X8</td>\n",
       "      <td>VRI23</td>\n",
       "      <td>$1,915,000</td>\n",
       "      <td>$1,899,000</td>\n",
       "      <td>...</td>\n",
       "      <td>No</td>\n",
       "      <td>NaN</td>\n",
       "      <td>$6,593.00</td>\n",
       "      <td>10/31/2022</td>\n",
       "      <td>1.0</td>\n",
       "      <td>NaN</td>\n",
       "      <td>NaN</td>\n",
       "      <td>$1,915,000</td>\n",
       "      <td>10/24/2022</td>\n",
       "      <td>House/Single Family</td>\n",
       "    </tr>\n",
       "    <tr>\n",
       "      <th>40756</th>\n",
       "      <td>0</td>\n",
       "      <td>//cdnparap130.paragonrels.com/ParagonImages/St...</td>\n",
       "      <td>R2734432</td>\n",
       "      <td>C</td>\n",
       "      <td>9254 125 STREET</td>\n",
       "      <td>Surrey</td>\n",
       "      <td>V3V 4X4</td>\n",
       "      <td>F31</td>\n",
       "      <td>$1,299,233</td>\n",
       "      <td>$1,299,233</td>\n",
       "      <td>...</td>\n",
       "      <td>No</td>\n",
       "      <td>NaN</td>\n",
       "      <td>$5,606.00</td>\n",
       "      <td>11/2/2022</td>\n",
       "      <td>NaN</td>\n",
       "      <td>NaN</td>\n",
       "      <td>NaN</td>\n",
       "      <td>NaN</td>\n",
       "      <td>NaN</td>\n",
       "      <td>House/Single Family</td>\n",
       "    </tr>\n",
       "    <tr>\n",
       "      <th>40757</th>\n",
       "      <td>20</td>\n",
       "      <td>//cdnparap130.paragonrels.com/ParagonImages/Pr...</td>\n",
       "      <td>R2734270</td>\n",
       "      <td>C</td>\n",
       "      <td>3159 TOWNLINE ROAD</td>\n",
       "      <td>Abbotsford</td>\n",
       "      <td>V2T 5J2</td>\n",
       "      <td>F74</td>\n",
       "      <td>$1,099,000</td>\n",
       "      <td>$1,099,000</td>\n",
       "      <td>...</td>\n",
       "      <td>No</td>\n",
       "      <td>NaN</td>\n",
       "      <td>$4,165.73</td>\n",
       "      <td>10/31/2022</td>\n",
       "      <td>8.0</td>\n",
       "      <td>NaN</td>\n",
       "      <td>NaN</td>\n",
       "      <td>NaN</td>\n",
       "      <td>NaN</td>\n",
       "      <td>House/Single Family</td>\n",
       "    </tr>\n",
       "    <tr>\n",
       "      <th>40758</th>\n",
       "      <td>7</td>\n",
       "      <td>//cdnparap130.paragonrels.com/ParagonImages/Pr...</td>\n",
       "      <td>R2734523</td>\n",
       "      <td>S</td>\n",
       "      <td>7712 160 STREET</td>\n",
       "      <td>Surrey</td>\n",
       "      <td>V3S 3T2</td>\n",
       "      <td>F34</td>\n",
       "      <td>$1,515,000</td>\n",
       "      <td>$1,498,000</td>\n",
       "      <td>...</td>\n",
       "      <td>No</td>\n",
       "      <td>NaN</td>\n",
       "      <td>$4,880.07</td>\n",
       "      <td>11/1/2022</td>\n",
       "      <td>6.0</td>\n",
       "      <td>Close</td>\n",
       "      <td>Close</td>\n",
       "      <td>$1,515,000</td>\n",
       "      <td>10/29/2022</td>\n",
       "      <td>House/Single Family</td>\n",
       "    </tr>\n",
       "  </tbody>\n",
       "</table>\n",
       "<p>253085 rows × 33 columns</p>\n",
       "</div>"
      ],
      "text/plain": [
       "       Picture Count                                   Listing Pictures  \\\n",
       "0                  0  //cdnparap130.paragonrels.com/ParagonImages/St...   \n",
       "1                  0  //cdnparap130.paragonrels.com/ParagonImages/St...   \n",
       "2                  1  //cdnparap130.paragonrels.com/ParagonImages/Pr...   \n",
       "3                  1  //cdnparap130.paragonrels.com/ParagonImages/Pr...   \n",
       "4                  1  //cdnparap130.paragonrels.com/ParagonImages/Pr...   \n",
       "...              ...                                                ...   \n",
       "40754             40  //cdnparap130.paragonrels.com/ParagonImages/Pr...   \n",
       "40755             20  //cdnparap130.paragonrels.com/ParagonImages/Pr...   \n",
       "40756              0  //cdnparap130.paragonrels.com/ParagonImages/St...   \n",
       "40757             20  //cdnparap130.paragonrels.com/ParagonImages/Pr...   \n",
       "40758              7  //cdnparap130.paragonrels.com/ParagonImages/Pr...   \n",
       "\n",
       "           ML # Status                  Address          City Postal Code  \\\n",
       "0      R2328951      T         20394 82B AVENUE       Langley     V2Y 0S2   \n",
       "1      R2329452      T         9749 129A STREET        Surrey     V3T 3J6   \n",
       "2      R2329714      T  41 4619 QUEENSWAY DRIVE       Terrace     V8G 3X5   \n",
       "3      R2329300      T       19547 THORBURN WAY  Pitt Meadows     V3Y 0B3   \n",
       "4      R2329141      S     6107 IMPERIAL STREET       Burnaby     V5T 1G6   \n",
       "...         ...    ...                      ...           ...         ...   \n",
       "40754  R2733474      S       1210 SPRICE AVENUE     Coquitlam     V3J 2P4   \n",
       "40755  R2733435      S            6431 UDY ROAD      Richmond     V7C 2X8   \n",
       "40756  R2734432      C          9254 125 STREET        Surrey     V3V 4X4   \n",
       "40757  R2734270      C       3159 TOWNLINE ROAD    Abbotsford     V2T 5J2   \n",
       "40758  R2734523      S          7712 160 STREET        Surrey     V3S 3T2   \n",
       "\n",
       "         S/A       Price  List Price  ... Fixtures Removed Y/N  \\\n",
       "0        F63  $1,068,000  $1,068,000  ...                   No   \n",
       "1        F25  $1,250,000  $1,250,000  ...                   No   \n",
       "2      N88TE     $40,000     $40,000  ...                   No   \n",
       "3      VPISM  $1,248,000  $1,248,000  ...                  Yes   \n",
       "4      VBSUD  $1,250,000  $1,330,000  ...                   No   \n",
       "...      ...         ...         ...  ...                  ...   \n",
       "40754  VCQCC  $1,620,000  $1,700,000  ...                   No   \n",
       "40755  VRI23  $1,915,000  $1,899,000  ...                   No   \n",
       "40756    F31  $1,299,233  $1,299,233  ...                   No   \n",
       "40757    F74  $1,099,000  $1,099,000  ...                   No   \n",
       "40758    F34  $1,515,000  $1,498,000  ...                   No   \n",
       "\n",
       "                             Fixtures Remvd  Gross Taxes  Last Trans Date  \\\n",
       "0                                       NaN    $5,389.07         1/2/2019   \n",
       "1                                       NaN    $3,102.58        5/11/2019   \n",
       "2                                       NaN      $196.07        2/12/2019   \n",
       "3      ELECTRIC FIREPLACE IN MASTER BEDROOM    $5,116.27        5/24/2019   \n",
       "4                                       NaN    $5,606.00         3/6/2019   \n",
       "...                                     ...          ...              ...   \n",
       "40754                                   NaN    $4,868.41        11/1/2022   \n",
       "40755                                   NaN    $6,593.00       10/31/2022   \n",
       "40756                                   NaN    $5,606.00        11/2/2022   \n",
       "40757                                   NaN    $4,165.73       10/31/2022   \n",
       "40758                                   NaN    $4,880.07        11/1/2022   \n",
       "\n",
       "      Parking Places - Total  Distance to Pub/Rapid Tr  \\\n",
       "0                        4.0                       NaN   \n",
       "1                        8.0                       NaN   \n",
       "2                        2.0                       NaN   \n",
       "3                        4.0                  2 BLOCKS   \n",
       "4                        3.0                       NaN   \n",
       "...                      ...                       ...   \n",
       "40754                    5.0                   1 BLOCK   \n",
       "40755                    1.0                       NaN   \n",
       "40756                    NaN                       NaN   \n",
       "40757                    8.0                       NaN   \n",
       "40758                    6.0                     Close   \n",
       "\n",
       "       Dist to School/School Bus  Sold Price   Sold Date                 Type  \n",
       "0                            NaN         NaN         NaN  House/Single Family  \n",
       "1                            NaN         NaN         NaN  House/Single Family  \n",
       "2                            NaN         NaN         NaN         Manufactured  \n",
       "3                       2 BLOCKS         NaN         NaN  House/Single Family  \n",
       "4                            NaN  $1,250,000   2/26/2019  House/Single Family  \n",
       "...                          ...         ...         ...                  ...  \n",
       "40754                   2 BLOCKS  $1,620,000  10/31/2022  House/Single Family  \n",
       "40755                        NaN  $1,915,000  10/24/2022  House/Single Family  \n",
       "40756                        NaN         NaN         NaN  House/Single Family  \n",
       "40757                        NaN         NaN         NaN  House/Single Family  \n",
       "40758                      Close  $1,515,000  10/29/2022  House/Single Family  \n",
       "\n",
       "[253085 rows x 33 columns]"
      ]
     },
     "execution_count": 18,
     "metadata": {},
     "output_type": "execute_result"
    }
   ],
   "source": [
    "#Sanity Check\n",
    "df_test"
   ]
  },
  {
   "cell_type": "markdown",
   "id": "2bfea248",
   "metadata": {},
   "source": [
    "Based on the information below, we can see that 2.5% of the data is duplicated. As the ML # is used as a unique identifyer for the listing. We can understand that there are duplicated listing showing in the data set. As the propotion is relatively small we choose to drop the duplciated information. "
   ]
  },
  {
   "cell_type": "code",
   "execution_count": 19,
   "id": "33e6a497",
   "metadata": {},
   "outputs": [],
   "source": [
    "#Drop duplicate rows\n",
    "df_test['ML #'].duplicated()\n",
    "df_test['ML #'].duplicated().sum()/df_test.shape[0]*100\n",
    "df_test.drop_duplicates(inplace=True)"
   ]
  },
  {
   "cell_type": "code",
   "execution_count": 20,
   "id": "5e115efc",
   "metadata": {},
   "outputs": [
    {
     "data": {
      "text/plain": [
       "0.0"
      ]
     },
     "execution_count": 20,
     "metadata": {},
     "output_type": "execute_result"
    }
   ],
   "source": [
    "#Sanity check to make sure that duplicated rows have been dropped. \n",
    "df_test['ML #'].duplicated().sum()/df_test.shape[0]*100"
   ]
  },
  {
   "cell_type": "code",
   "execution_count": 21,
   "id": "c1bbd58b",
   "metadata": {
    "scrolled": true
   },
   "outputs": [
    {
     "data": {
      "text/plain": [
       "Picture Count                     0\n",
       "Listing Pictures                  0\n",
       "ML #                              0\n",
       "Status                            0\n",
       "Address                           0\n",
       "City                              0\n",
       "Postal Code                       0\n",
       "S/A                             136\n",
       "Price                             0\n",
       "List Price                        0\n",
       "List Date                         0\n",
       "DOM                               0\n",
       "Tot BR                            0\n",
       "Tot Baths                         0\n",
       "TotFlArea                         0\n",
       "Yr Blt                           43\n",
       "Age                              43\n",
       "Lot Sz (Sq.Ft.)                  69\n",
       "Frontage - Feet                8479\n",
       "Depth                         59371\n",
       "#Kitchens                         0\n",
       "TypeDwel                          0\n",
       "Style of Home                     9\n",
       "Fixtures Removed Y/N          51868\n",
       "Fixtures Remvd               225316\n",
       "Gross Taxes                      97\n",
       "Last Trans Date                   0\n",
       "Parking Places - Total        46711\n",
       "Distance to Pub/Rapid Tr     154518\n",
       "Dist to School/School Bus    160663\n",
       "Sold Price                   107212\n",
       "Sold Date                    107212\n",
       "Type                              0\n",
       "dtype: int64"
      ]
     },
     "execution_count": 21,
     "metadata": {},
     "output_type": "execute_result"
    }
   ],
   "source": [
    "#Checking for null values in our data frame and which column these are located in\n",
    "df_test.isna().sum()"
   ]
  },
  {
   "cell_type": "code",
   "execution_count": 22,
   "id": "780d83ab",
   "metadata": {
    "scrolled": false
   },
   "outputs": [
    {
     "data": {
      "text/plain": [
       "Picture Count                 0.000000\n",
       "Listing Pictures              0.000000\n",
       "ML #                          0.000000\n",
       "Status                        0.000000\n",
       "Address                       0.000000\n",
       "City                          0.000000\n",
       "Postal Code                   0.000000\n",
       "S/A                           0.055771\n",
       "Price                         0.000000\n",
       "List Price                    0.000000\n",
       "List Date                     0.000000\n",
       "DOM                           0.000000\n",
       "Tot BR                        0.000000\n",
       "Tot Baths                     0.000000\n",
       "TotFlArea                     0.000000\n",
       "Yr Blt                        0.017633\n",
       "Age                           0.017633\n",
       "Lot Sz (Sq.Ft.)               0.028296\n",
       "Frontage - Feet               3.477066\n",
       "Depth                        24.346845\n",
       "#Kitchens                     0.000000\n",
       "TypeDwel                      0.000000\n",
       "Style of Home                 0.003691\n",
       "Fixtures Removed Y/N         21.270017\n",
       "Fixtures Remvd               92.397531\n",
       "Gross Taxes                   0.039778\n",
       "Last Trans Date               0.000000\n",
       "Parking Places - Total       19.155236\n",
       "Distance to Pub/Rapid Tr     63.364704\n",
       "Dist to School/School Bus    65.884645\n",
       "Sold Price                   43.965471\n",
       "Sold Date                    43.965471\n",
       "Type                          0.000000\n",
       "dtype: float64"
      ]
     },
     "execution_count": 22,
     "metadata": {},
     "output_type": "execute_result"
    }
   ],
   "source": [
    "#Finding percentage of data that are null values. \n",
    "df_test.isna().sum()/df_test.shape[0]*100.0"
   ]
  },
  {
   "cell_type": "markdown",
   "id": "89bea515",
   "metadata": {},
   "source": [
    "Based on the information above some columns have few rows that have null values. In preparation for data exploration as well as modeling we drop the small subset. "
   ]
  },
  {
   "cell_type": "code",
   "execution_count": 23,
   "id": "dd49520e",
   "metadata": {},
   "outputs": [],
   "source": [
    "#drop rows from S/A, AGE, yr built, frontage, and gross taxes as they are a small subset of data. Where the percentage is less than 5% of the data set.\n",
    "df_test.dropna(subset = ['S/A','Yr Blt','Age','Lot Sz (Sq.Ft.)','Frontage - Feet','Style of Home','Gross Taxes' ],inplace =True)\n",
    "\n"
   ]
  },
  {
   "cell_type": "code",
   "execution_count": 24,
   "id": "68351820",
   "metadata": {
    "scrolled": false
   },
   "outputs": [
    {
     "data": {
      "text/plain": [
       "Picture Count                 0.000000\n",
       "Listing Pictures              0.000000\n",
       "ML #                          0.000000\n",
       "Status                        0.000000\n",
       "Address                       0.000000\n",
       "City                          0.000000\n",
       "Postal Code                   0.000000\n",
       "S/A                           0.000000\n",
       "Price                         0.000000\n",
       "List Price                    0.000000\n",
       "List Date                     0.000000\n",
       "DOM                           0.000000\n",
       "Tot BR                        0.000000\n",
       "Tot Baths                     0.000000\n",
       "TotFlArea                     0.000000\n",
       "Yr Blt                        0.000000\n",
       "Age                           0.000000\n",
       "Lot Sz (Sq.Ft.)               0.000000\n",
       "Frontage - Feet               0.000000\n",
       "Depth                        21.852775\n",
       "#Kitchens                     0.000000\n",
       "TypeDwel                      0.000000\n",
       "Style of Home                 0.000000\n",
       "Fixtures Removed Y/N         21.300235\n",
       "Fixtures Remvd               92.386940\n",
       "Gross Taxes                   0.000000\n",
       "Last Trans Date               0.000000\n",
       "Parking Places - Total       19.003301\n",
       "Distance to Pub/Rapid Tr     63.014258\n",
       "Dist to School/School Bus    65.435397\n",
       "Sold Price                   44.067530\n",
       "Sold Date                    44.067530\n",
       "Type                          0.000000\n",
       "dtype: float64"
      ]
     },
     "execution_count": 24,
     "metadata": {},
     "output_type": "execute_result"
    }
   ],
   "source": [
    "#Sanity check to make sure the null rows are gone \n",
    "df_test.isna().sum()/df_test.shape[0]*100.0\n"
   ]
  },
  {
   "cell_type": "markdown",
   "id": "68811292",
   "metadata": {},
   "source": [
    "Some of the numerical data are strings due to the fact that the formatting has commas as well as the dollar sign. We create a function that will convert strings into integers by removing any commas as well as symbols."
   ]
  },
  {
   "cell_type": "code",
   "execution_count": 25,
   "id": "4a1a71d1",
   "metadata": {},
   "outputs": [],
   "source": [
    "#Created a function that will input a float or string remove the special characters such as commas and dollar signs and convert into numeric\n",
    "def convert_price(pr_string):\n",
    "    num_string = '' # string that hol\n",
    "    # exc eption for numeric pr_string argument\n",
    "    # add condition for decimal point\n",
    "    for ch in pr_string:\n",
    "        if ch.isnumeric():\n",
    "            num_string = num_string + ch\n",
    "            #print(num_string)\n",
    "    return int(num_string)\n",
    "\n",
    "#Was able to complete this function with Arati's help. https://www.w3schools.com/python/ref_string_isnumeric.asp#:~:text=The%20isnumeric()%20method%20returns,%2C%20and%20the%20%2D%20and%20the%20\n",
    "        "
   ]
  },
  {
   "cell_type": "code",
   "execution_count": 26,
   "id": "270e5487",
   "metadata": {},
   "outputs": [
    {
     "data": {
      "text/plain": [
       "1068000"
      ]
     },
     "execution_count": 26,
     "metadata": {},
     "output_type": "execute_result"
    }
   ],
   "source": [
    "#We test the function on a made up number bellow. This was successfully done.\n",
    "convert_price('$1,068,000')"
   ]
  },
  {
   "cell_type": "markdown",
   "id": "2e331b4d",
   "metadata": {},
   "source": [
    "We apply the function to the Price column, which is the sold price of the home. We then compare the newly created column Price_num to the original column Price "
   ]
  },
  {
   "cell_type": "code",
   "execution_count": 27,
   "id": "a0199887",
   "metadata": {
    "scrolled": true
   },
   "outputs": [
    {
     "data": {
      "text/html": [
       "<div>\n",
       "<style scoped>\n",
       "    .dataframe tbody tr th:only-of-type {\n",
       "        vertical-align: middle;\n",
       "    }\n",
       "\n",
       "    .dataframe tbody tr th {\n",
       "        vertical-align: top;\n",
       "    }\n",
       "\n",
       "    .dataframe thead th {\n",
       "        text-align: right;\n",
       "    }\n",
       "</style>\n",
       "<table border=\"1\" class=\"dataframe\">\n",
       "  <thead>\n",
       "    <tr style=\"text-align: right;\">\n",
       "      <th></th>\n",
       "      <th>Price</th>\n",
       "      <th>Price_num</th>\n",
       "    </tr>\n",
       "  </thead>\n",
       "  <tbody>\n",
       "    <tr>\n",
       "      <th>0</th>\n",
       "      <td>$1,068,000</td>\n",
       "      <td>1068000</td>\n",
       "    </tr>\n",
       "    <tr>\n",
       "      <th>1</th>\n",
       "      <td>$1,250,000</td>\n",
       "      <td>1250000</td>\n",
       "    </tr>\n",
       "    <tr>\n",
       "      <th>2</th>\n",
       "      <td>$40,000</td>\n",
       "      <td>40000</td>\n",
       "    </tr>\n",
       "    <tr>\n",
       "      <th>3</th>\n",
       "      <td>$1,248,000</td>\n",
       "      <td>1248000</td>\n",
       "    </tr>\n",
       "    <tr>\n",
       "      <th>4</th>\n",
       "      <td>$1,250,000</td>\n",
       "      <td>1250000</td>\n",
       "    </tr>\n",
       "  </tbody>\n",
       "</table>\n",
       "</div>"
      ],
      "text/plain": [
       "        Price  Price_num\n",
       "0  $1,068,000    1068000\n",
       "1  $1,250,000    1250000\n",
       "2     $40,000      40000\n",
       "3  $1,248,000    1248000\n",
       "4  $1,250,000    1250000"
      ]
     },
     "execution_count": 27,
     "metadata": {},
     "output_type": "execute_result"
    }
   ],
   "source": [
    "#We apply created function and test the results \n",
    "df_test['Price_num'] = df_test['Price'].apply(convert_price)\n",
    "df_test[['Price','Price_num']].head()"
   ]
  },
  {
   "cell_type": "markdown",
   "id": "bb6b6e65",
   "metadata": {},
   "source": [
    "The second column we apply this function to is the List Price column similarly to the Price column we compare after applying the function as a sanity check."
   ]
  },
  {
   "cell_type": "code",
   "execution_count": 28,
   "id": "38dc7fef",
   "metadata": {},
   "outputs": [
    {
     "data": {
      "text/html": [
       "<div>\n",
       "<style scoped>\n",
       "    .dataframe tbody tr th:only-of-type {\n",
       "        vertical-align: middle;\n",
       "    }\n",
       "\n",
       "    .dataframe tbody tr th {\n",
       "        vertical-align: top;\n",
       "    }\n",
       "\n",
       "    .dataframe thead th {\n",
       "        text-align: right;\n",
       "    }\n",
       "</style>\n",
       "<table border=\"1\" class=\"dataframe\">\n",
       "  <thead>\n",
       "    <tr style=\"text-align: right;\">\n",
       "      <th></th>\n",
       "      <th>List_Price_num</th>\n",
       "      <th>List Price</th>\n",
       "    </tr>\n",
       "  </thead>\n",
       "  <tbody>\n",
       "    <tr>\n",
       "      <th>0</th>\n",
       "      <td>1068000</td>\n",
       "      <td>$1,068,000</td>\n",
       "    </tr>\n",
       "    <tr>\n",
       "      <th>1</th>\n",
       "      <td>1250000</td>\n",
       "      <td>$1,250,000</td>\n",
       "    </tr>\n",
       "    <tr>\n",
       "      <th>2</th>\n",
       "      <td>40000</td>\n",
       "      <td>$40,000</td>\n",
       "    </tr>\n",
       "    <tr>\n",
       "      <th>3</th>\n",
       "      <td>1248000</td>\n",
       "      <td>$1,248,000</td>\n",
       "    </tr>\n",
       "    <tr>\n",
       "      <th>4</th>\n",
       "      <td>1330000</td>\n",
       "      <td>$1,330,000</td>\n",
       "    </tr>\n",
       "  </tbody>\n",
       "</table>\n",
       "</div>"
      ],
      "text/plain": [
       "   List_Price_num  List Price\n",
       "0         1068000  $1,068,000\n",
       "1         1250000  $1,250,000\n",
       "2           40000     $40,000\n",
       "3         1248000  $1,248,000\n",
       "4         1330000  $1,330,000"
      ]
     },
     "execution_count": 28,
     "metadata": {},
     "output_type": "execute_result"
    }
   ],
   "source": [
    "#Apply and test the results for the next column.\n",
    "df_test['List_Price_num'] = df_test['List Price'].apply(convert_price)\n",
    "df_test[['List_Price_num','List Price']].head()"
   ]
  },
  {
   "cell_type": "markdown",
   "id": "982c027c",
   "metadata": {},
   "source": [
    "Lastly we apply the function onto the Gross Taxes column to convert into numerical. "
   ]
  },
  {
   "cell_type": "code",
   "execution_count": 29,
   "id": "061f53f1",
   "metadata": {},
   "outputs": [],
   "source": [
    "df_test['Prop_taxes'] = df_test['Gross Taxes'].apply(convert_price)"
   ]
  },
  {
   "cell_type": "markdown",
   "id": "f8918016",
   "metadata": {},
   "source": [
    "After converting some rows from Strings into integers, we wanted to create a boolean or binary column out of the sold status. Since we are primarily looking into what the sales price of a home is we do not mind the difference between terminated, cancelled, expired and withdrawn listings. In our position these are all the same, homes that were not sold. As such we create a binary column 1 if the home was sold and 0 otherwise. \n",
    "\n",
    "To handle this, we could have gone two routes, either using dummy variable function and only keeping the column created under S. However I chose to replace the values instead in order to make sure the dataframe formatting stayed the same. "
   ]
  },
  {
   "cell_type": "code",
   "execution_count": 30,
   "id": "8bc23d45",
   "metadata": {},
   "outputs": [
    {
     "data": {
      "text/plain": [
       "S    131495\n",
       "T     67128\n",
       "X     35823\n",
       "C       649\n",
       "W         1\n",
       "Name: Status, dtype: int64"
      ]
     },
     "execution_count": 30,
     "metadata": {},
     "output_type": "execute_result"
    }
   ],
   "source": [
    "#Create continous variable for sold status if sold place 1 else 0. \n",
    "df_test['Status'].value_counts()\n"
   ]
  },
  {
   "cell_type": "code",
   "execution_count": 31,
   "id": "2345c836",
   "metadata": {},
   "outputs": [],
   "source": [
    "df_test=df_test.replace(['S','T','X','C','W'],[1,0,0,0,0])\n",
    "#convert status S into 1 as this is a sold home, and T, X, C into 0 as the home was not sold. \n",
    "\n"
   ]
  },
  {
   "cell_type": "code",
   "execution_count": 32,
   "id": "fbc00168",
   "metadata": {},
   "outputs": [
    {
     "data": {
      "text/plain": [
       "1    131495\n",
       "0    103601\n",
       "Name: Status, dtype: int64"
      ]
     },
     "execution_count": 32,
     "metadata": {},
     "output_type": "execute_result"
    }
   ],
   "source": [
    "#sanity check \n",
    "df_test['Status'].value_counts()"
   ]
  },
  {
   "cell_type": "code",
   "execution_count": 33,
   "id": "31daf3c5",
   "metadata": {},
   "outputs": [],
   "source": [
    "df_test=df_test.drop(['Price','List Price','Gross Taxes'], axis =1 )\n",
    "df_test['Lot Sz (Sq.Ft.)'] = df_test['Lot Sz (Sq.Ft.)'].apply(convert_price)\n",
    "df_test['TotFlArea'] = df_test['TotFlArea'].apply(convert_price)\n",
    "df_test['Frontage - Feet'] = df_test['Frontage - Feet'].apply(convert_price)"
   ]
  },
  {
   "cell_type": "code",
   "execution_count": 34,
   "id": "cdc69c4c",
   "metadata": {
    "scrolled": true
   },
   "outputs": [
    {
     "name": "stdout",
     "output_type": "stream",
     "text": [
      "<class 'pandas.core.frame.DataFrame'>\n",
      "Int64Index: 235096 entries, 0 to 40758\n",
      "Data columns (total 33 columns):\n",
      " #   Column                     Non-Null Count   Dtype         \n",
      "---  ------                     --------------   -----         \n",
      " 0   Picture Count              235096 non-null  int64         \n",
      " 1   Listing Pictures           235096 non-null  object        \n",
      " 2   ML #                       235096 non-null  object        \n",
      " 3   Status                     235096 non-null  int64         \n",
      " 4   Address                    235096 non-null  object        \n",
      " 5   City                       235096 non-null  object        \n",
      " 6   Postal Code                235096 non-null  object        \n",
      " 7   S/A                        235096 non-null  object        \n",
      " 8   List Date                  235096 non-null  datetime64[ns]\n",
      " 9   DOM                        235096 non-null  int64         \n",
      " 10  Tot BR                     235096 non-null  int64         \n",
      " 11  Tot Baths                  235096 non-null  int64         \n",
      " 12  TotFlArea                  235096 non-null  int64         \n",
      " 13  Yr Blt                     235096 non-null  float64       \n",
      " 14  Age                        235096 non-null  float64       \n",
      " 15  Lot Sz (Sq.Ft.)            235096 non-null  int64         \n",
      " 16  Frontage - Feet            235096 non-null  int64         \n",
      " 17  Depth                      183721 non-null  object        \n",
      " 18  #Kitchens                  235096 non-null  int64         \n",
      " 19  TypeDwel                   235096 non-null  object        \n",
      " 20  Style of Home              235096 non-null  object        \n",
      " 21  Fixtures Removed Y/N       185020 non-null  object        \n",
      " 22  Fixtures Remvd             17898 non-null   object        \n",
      " 23  Last Trans Date            235096 non-null  datetime64[ns]\n",
      " 24  Parking Places - Total     190420 non-null  float64       \n",
      " 25  Distance to Pub/Rapid Tr   86952 non-null   object        \n",
      " 26  Dist to School/School Bus  81260 non-null   object        \n",
      " 27  Sold Price                 131495 non-null  object        \n",
      " 28  Sold Date                  131495 non-null  datetime64[ns]\n",
      " 29  Type                       235096 non-null  object        \n",
      " 30  Price_num                  235096 non-null  int64         \n",
      " 31  List_Price_num             235096 non-null  int64         \n",
      " 32  Prop_taxes                 235096 non-null  int64         \n",
      "dtypes: datetime64[ns](3), float64(3), int64(12), object(15)\n",
      "memory usage: 61.0+ MB\n"
     ]
    }
   ],
   "source": [
    "df_test.info()"
   ]
  },
  {
   "cell_type": "code",
   "execution_count": 1,
   "id": "27e00172",
   "metadata": {},
   "outputs": [
    {
     "ename": "NameError",
     "evalue": "name 'df_test' is not defined",
     "output_type": "error",
     "traceback": [
      "\u001b[0;31m---------------------------------------------------------------------------\u001b[0m",
      "\u001b[0;31mNameError\u001b[0m                                 Traceback (most recent call last)",
      "Input \u001b[0;32mIn [1]\u001b[0m, in \u001b[0;36m<cell line: 2>\u001b[0;34m()\u001b[0m\n\u001b[1;32m      1\u001b[0m \u001b[38;5;66;03m#Filter data to only contain information where the home is sold. \u001b[39;00m\n\u001b[0;32m----> 2\u001b[0m df_sold \u001b[38;5;241m=\u001b[39m \u001b[43mdf_test\u001b[49m\u001b[38;5;241m.\u001b[39mloc[df_test[\u001b[38;5;124m'\u001b[39m\u001b[38;5;124mStatus\u001b[39m\u001b[38;5;124m'\u001b[39m] \u001b[38;5;241m==\u001b[39m \u001b[38;5;241m1\u001b[39m]\n\u001b[1;32m      3\u001b[0m df_sold\n",
      "\u001b[0;31mNameError\u001b[0m: name 'df_test' is not defined"
     ]
    }
   ],
   "source": [
    "#Filter data to only contain information where the home is sold. \n",
    "df_sold = df_test.loc[df_test['Status'] == 1]\n",
    "df_sold\n"
   ]
  },
  {
   "cell_type": "code",
   "execution_count": 45,
   "id": "8d47689b",
   "metadata": {
    "scrolled": true
   },
   "outputs": [
    {
     "data": {
      "text/plain": [
       "(array([3., 1., 6., ..., 0., 0., 1.]),\n",
       " array([7.00000000e+03, 9.69930000e+03, 1.23986000e+04, ...,\n",
       "        2.69946014e+07, 2.69973007e+07, 2.70000000e+07]),\n",
       " <BarContainer object of 10000 artists>)"
      ]
     },
     "execution_count": 45,
     "metadata": {},
     "output_type": "execute_result"
    },
    {
     "data": {
      "image/png": "[encoded data removed]",
      "text/plain": [
       "<Figure size 432x288 with 1 Axes>"
      ]
     },
     "metadata": {
      "needs_background": "light"
     },
     "output_type": "display_data"
    }
   ],
   "source": [
    "#Plot the basic distribution of sold homes. \n",
    "plt.hist(df_sold['Price_num'], bins =10000)"
   ]
  },
  {
   "cell_type": "code",
   "execution_count": null,
   "id": "c003c2a9",
   "metadata": {},
   "outputs": [],
   "source": []
  },
  {
   "cell_type": "code",
   "execution_count": 39,
   "id": "0fd04990",
   "metadata": {},
   "outputs": [
    {
     "data": {
      "text/plain": [
       "1    131495\n",
       "Name: Status, dtype: int64"
      ]
     },
     "execution_count": 39,
     "metadata": {},
     "output_type": "execute_result"
    }
   ],
   "source": [
    "#We are trying to find the total number of homes that were sold in our dataset. \n",
    "df_sold['Status'].value_counts()"
   ]
  },
  {
   "cell_type": "code",
   "execution_count": 38,
   "id": "630d91e9",
   "metadata": {},
   "outputs": [
    {
     "data": {
      "text/plain": [
       "F75      2175\n",
       "F83      2126\n",
       "F41      1957\n",
       "F74      1769\n",
       "F34      1596\n",
       "         ... \n",
       "N69ML       1\n",
       "N81MW       1\n",
       "N77IP       1\n",
       "VWHSG       1\n",
       "N80HD       1\n",
       "Name: S/A, Length: 658, dtype: int64"
      ]
     },
     "execution_count": 38,
     "metadata": {},
     "output_type": "execute_result"
    }
   ],
   "source": [
    "#Look at all the different S/A values. \n",
    "df['S/A'].value_counts()"
   ]
  },
  {
   "cell_type": "code",
   "execution_count": 39,
   "id": "158cb864",
   "metadata": {},
   "outputs": [
    {
     "data": {
      "text/plain": [
       "(array([2.9805e+04, 0.0000e+00, 0.0000e+00, 7.1890e+04, 0.0000e+00,\n",
       "        0.0000e+00, 1.5280e+04, 0.0000e+00, 0.0000e+00, 6.0000e+00]),\n",
       " array([0. , 0.3, 0.6, 0.9, 1.2, 1.5, 1.8, 2.1, 2.4, 2.7, 3. ]),\n",
       " <BarContainer object of 10 artists>)"
      ]
     },
     "execution_count": 39,
     "metadata": {},
     "output_type": "execute_result"
    },
    {
     "data": {
      "image/png": "[encoded data removed]",
      "text/plain": [
       "<Figure size 432x288 with 1 Axes>"
      ]
     },
     "metadata": {
      "needs_background": "light"
     },
     "output_type": "display_data"
    }
   ],
   "source": [
    "plt.hist(df['Status'])"
   ]
  },
  {
   "cell_type": "code",
   "execution_count": 43,
   "id": "40721124",
   "metadata": {},
   "outputs": [],
   "source": [
    "df_test.to_csv('df_EDA.csv')"
   ]
  },
  {
   "cell_type": "code",
   "execution_count": 42,
   "id": "b24379ae",
   "metadata": {},
   "outputs": [],
   "source": [
    "df_sold.to_csv('df_model_test.csv')"
   ]
  },
  {
   "cell_type": "markdown",
   "id": "beca0aea",
   "metadata": {},
   "source": [
    "This is where our first notebook ends, we continue with our \"Capstone Preprocessing\" notebook which wil go through the process of further cleaning, converting columsn as well as dropping unnecesary columns. \n"
   ]
  }
 ],
 "metadata": {
  "kernelspec": {
   "display_name": "Python 3 (ipykernel)",
   "language": "python",
   "name": "python3"
  },
  "language_info": {
   "codemirror_mode": {
    "name": "ipython",
    "version": 3
   },
   "file_extension": ".py",
   "mimetype": "text/x-python",
   "name": "python",
   "nbconvert_exporter": "python",
   "pygments_lexer": "ipython3",
   "version": "3.9.12"
  }
 },
 "nbformat": 4,
 "nbformat_minor": 5
}
