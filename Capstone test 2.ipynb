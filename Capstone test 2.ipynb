{
 "cells": [
  {
   "cell_type": "markdown",
   "id": "4b66fb1b",
   "metadata": {},
   "source": [
    "### Notebook 4 Modeling part 2\n",
    "\n",
    "# Table of Contents \n",
    "\n",
    "### [Modeling](#part1)\n",
    "   - [Linear Regression](#p1q1)<br>\n",
    "   - [K Nearest Neighbour Regression](#p1q2)<br>\n",
    "   - [Gradient Boosting Regressor ](#p1q3)<br>\n",
    "   - [XG Boosting Regressor ](#p1q4)<br>\n",
    "   \n",
    "### [Model Evaluation](#part2)\n",
    "   \n",
    "   -[Gradient Boosting](#p2q1)<br>\n",
    " \n",
    "#### Introduction  \n",
    "This is the final notebook for modelling. We have initialized our models previously and are now working to tune the models to best predict our housing price. As our business goal is to be able to help make better business decisions when it comes to predicting a homes sales price this can be used for both the buying side knowing what the home is worth, as well on the sell side on what amount should the price be listed to target a sale. \n",
    "\n",
    "This final notebook will have the following flow. We will begin by tuning our data one last time, dropping any columns that are not needed. We will be looking at the following models that we have previously tested with minor success. \n",
    "- Linear Regression\n",
    "- K Nearest Neighbour Regression\n",
    "- Gradient Boosting \n",
    "- XG Boosting\n",
    "\n",
    "So far we have observed that although our train set Gradient boosting has the highest R sqared value, we see that this is significantly overfit, while XG boosting although a lower train R-Squared has a closed fit to its test set.\n",
    "\n",
    "We do also start to look into list date as a factor. Instead of only randomly test our homes that have been listed over the past 4 years, we look at a more realistic approach which is to organize home in chronological order, such that our test set will be considered data in the future that our model is not aware of. We hope to train our model using the first 80% of homes listed this will prove to be a more realistic approach for a our model though may have lower ability to predict as well or in other words more variance. "
   ]
  },
  {
   "cell_type": "code",
   "execution_count": 1,
   "id": "e2288b09",
   "metadata": {},
   "outputs": [],
   "source": [
    "import numpy as np \n",
    "import matplotlib.pyplot as plt\n",
    "import pandas as pd\n",
    "from sklearn.decomposition import PCA\n",
    "from sklearn.neighbors import KNeighborsRegressor\n",
    "import pickle\n",
    "\n"
   ]
  },
  {
   "cell_type": "markdown",
   "id": "ec3e6a97",
   "metadata": {},
   "source": [
    "We start by loading our cleaned and preprocessed data. The data has been cleaned by removing any duplicates as well as null values. We also applied One Hot Encoding to two columns, Postal code and city. The postal code as been focused on with the first three characters of the postal code which reflects the distribution center which has a higher granularity than a city but less than a block or two. We begin with 533 columns and 139590 rows. "
   ]
  },
  {
   "cell_type": "code",
   "execution_count": 2,
   "id": "66d4457d",
   "metadata": {},
   "outputs": [],
   "source": [
    "df = pd.read_csv('/Users/davidongtenco/Desktop/Capstone-Predicting home prices /data/data_ohe.csv')\n",
    "df['List Date'] = pd.to_datetime(df['List Date'])\n",
    "\n",
    "\n"
   ]
  },
  {
   "cell_type": "code",
   "execution_count": 3,
   "id": "979c3454",
   "metadata": {},
   "outputs": [
    {
     "data": {
      "text/plain": [
       "1    131495\n",
       "Name: Status, dtype: int64"
      ]
     },
     "execution_count": 3,
     "metadata": {},
     "output_type": "execute_result"
    }
   ],
   "source": [
    "#Sanity check to make sure only sold homes are listed. \n",
    "df['Status'].value_counts()"
   ]
  },
  {
   "cell_type": "code",
   "execution_count": 4,
   "id": "da3b04e4",
   "metadata": {},
   "outputs": [
    {
     "name": "stdout",
     "output_type": "stream",
     "text": [
      "<class 'pandas.core.frame.DataFrame'>\n",
      "RangeIndex: 131495 entries, 0 to 131494\n",
      "Columns: 502 entries, Unnamed: 0.1 to ('Yarrow',)\n",
      "dtypes: datetime64[ns](1), float64(1), int64(483), object(17)\n",
      "memory usage: 503.6+ MB\n"
     ]
    }
   ],
   "source": [
    "df.info()\n",
    "\n"
   ]
  },
  {
   "cell_type": "code",
   "execution_count": 5,
   "id": "3951d8e1",
   "metadata": {},
   "outputs": [
    {
     "data": {
      "text/html": [
       "<div>\n",
       "<style scoped>\n",
       "    .dataframe tbody tr th:only-of-type {\n",
       "        vertical-align: middle;\n",
       "    }\n",
       "\n",
       "    .dataframe tbody tr th {\n",
       "        vertical-align: top;\n",
       "    }\n",
       "\n",
       "    .dataframe thead th {\n",
       "        text-align: right;\n",
       "    }\n",
       "</style>\n",
       "<table border=\"1\" class=\"dataframe\">\n",
       "  <thead>\n",
       "    <tr style=\"text-align: right;\">\n",
       "      <th></th>\n",
       "      <th>Unnamed: 0.1</th>\n",
       "      <th>Unnamed: 0</th>\n",
       "      <th>Picture Count</th>\n",
       "      <th>Listing Pictures</th>\n",
       "      <th>ML #</th>\n",
       "      <th>Status</th>\n",
       "      <th>Address</th>\n",
       "      <th>City</th>\n",
       "      <th>Postal Code</th>\n",
       "      <th>S/A</th>\n",
       "      <th>...</th>\n",
       "      <th>('Williams Lake',)</th>\n",
       "      <th>('Williams Lake - City',)</th>\n",
       "      <th>('Williams Lake - Rural East',)</th>\n",
       "      <th>('Williams Lake - Rural North',)</th>\n",
       "      <th>('Williams Lake - Rural South',)</th>\n",
       "      <th>('Williams Lake - Rural West',)</th>\n",
       "      <th>('Willow River',)</th>\n",
       "      <th>('Wilson Creek',)</th>\n",
       "      <th>('Yale',)</th>\n",
       "      <th>('Yarrow',)</th>\n",
       "    </tr>\n",
       "  </thead>\n",
       "  <tbody>\n",
       "    <tr>\n",
       "      <th>0</th>\n",
       "      <td>0</td>\n",
       "      <td>4</td>\n",
       "      <td>1</td>\n",
       "      <td>//cdnparap130.paragonrels.com/ParagonImages/Pr...</td>\n",
       "      <td>R2329141</td>\n",
       "      <td>1</td>\n",
       "      <td>6107 IMPERIAL STREET</td>\n",
       "      <td>Burnaby</td>\n",
       "      <td>V5T</td>\n",
       "      <td>VBSUD</td>\n",
       "      <td>...</td>\n",
       "      <td>0</td>\n",
       "      <td>0</td>\n",
       "      <td>0</td>\n",
       "      <td>0</td>\n",
       "      <td>0</td>\n",
       "      <td>0</td>\n",
       "      <td>0</td>\n",
       "      <td>0</td>\n",
       "      <td>0</td>\n",
       "      <td>0</td>\n",
       "    </tr>\n",
       "    <tr>\n",
       "      <th>1</th>\n",
       "      <td>1</td>\n",
       "      <td>5</td>\n",
       "      <td>1</td>\n",
       "      <td>//cdnparap130.paragonrels.com/ParagonImages/Pr...</td>\n",
       "      <td>R2329328</td>\n",
       "      <td>1</td>\n",
       "      <td>10351 SCOTSDALE AVENUE</td>\n",
       "      <td>Richmond</td>\n",
       "      <td>V7E</td>\n",
       "      <td>VRI41</td>\n",
       "      <td>...</td>\n",
       "      <td>0</td>\n",
       "      <td>0</td>\n",
       "      <td>0</td>\n",
       "      <td>0</td>\n",
       "      <td>0</td>\n",
       "      <td>0</td>\n",
       "      <td>0</td>\n",
       "      <td>0</td>\n",
       "      <td>0</td>\n",
       "      <td>0</td>\n",
       "    </tr>\n",
       "    <tr>\n",
       "      <th>2</th>\n",
       "      <td>2</td>\n",
       "      <td>10</td>\n",
       "      <td>12</td>\n",
       "      <td>//cdnparap130.paragonrels.com/ParagonImages/Pr...</td>\n",
       "      <td>R2329293</td>\n",
       "      <td>1</td>\n",
       "      <td>1215 WAVERLEY AVENUE</td>\n",
       "      <td>Vancouver</td>\n",
       "      <td>V5W</td>\n",
       "      <td>VVEKN</td>\n",
       "      <td>...</td>\n",
       "      <td>0</td>\n",
       "      <td>0</td>\n",
       "      <td>0</td>\n",
       "      <td>0</td>\n",
       "      <td>0</td>\n",
       "      <td>0</td>\n",
       "      <td>0</td>\n",
       "      <td>0</td>\n",
       "      <td>0</td>\n",
       "      <td>0</td>\n",
       "    </tr>\n",
       "    <tr>\n",
       "      <th>3</th>\n",
       "      <td>3</td>\n",
       "      <td>15</td>\n",
       "      <td>16</td>\n",
       "      <td>//cdnparap130.paragonrels.com/ParagonImages/Pr...</td>\n",
       "      <td>R2328821</td>\n",
       "      <td>1</td>\n",
       "      <td>10127 MARY DRIVE</td>\n",
       "      <td>Surrey</td>\n",
       "      <td>V3V</td>\n",
       "      <td>F25</td>\n",
       "      <td>...</td>\n",
       "      <td>0</td>\n",
       "      <td>0</td>\n",
       "      <td>0</td>\n",
       "      <td>0</td>\n",
       "      <td>0</td>\n",
       "      <td>0</td>\n",
       "      <td>0</td>\n",
       "      <td>0</td>\n",
       "      <td>0</td>\n",
       "      <td>0</td>\n",
       "    </tr>\n",
       "    <tr>\n",
       "      <th>4</th>\n",
       "      <td>4</td>\n",
       "      <td>17</td>\n",
       "      <td>16</td>\n",
       "      <td>//cdnparap130.paragonrels.com/ParagonImages/Pr...</td>\n",
       "      <td>R2328916</td>\n",
       "      <td>1</td>\n",
       "      <td>15449 95 AVENUE</td>\n",
       "      <td>Surrey</td>\n",
       "      <td>V3R</td>\n",
       "      <td>F34</td>\n",
       "      <td>...</td>\n",
       "      <td>0</td>\n",
       "      <td>0</td>\n",
       "      <td>0</td>\n",
       "      <td>0</td>\n",
       "      <td>0</td>\n",
       "      <td>0</td>\n",
       "      <td>0</td>\n",
       "      <td>0</td>\n",
       "      <td>0</td>\n",
       "      <td>0</td>\n",
       "    </tr>\n",
       "  </tbody>\n",
       "</table>\n",
       "<p>5 rows × 502 columns</p>\n",
       "</div>"
      ],
      "text/plain": [
       "   Unnamed: 0.1  Unnamed: 0  Picture Count  \\\n",
       "0             0           4              1   \n",
       "1             1           5              1   \n",
       "2             2          10             12   \n",
       "3             3          15             16   \n",
       "4             4          17             16   \n",
       "\n",
       "                                    Listing Pictures      ML #  Status  \\\n",
       "0  //cdnparap130.paragonrels.com/ParagonImages/Pr...  R2329141       1   \n",
       "1  //cdnparap130.paragonrels.com/ParagonImages/Pr...  R2329328       1   \n",
       "2  //cdnparap130.paragonrels.com/ParagonImages/Pr...  R2329293       1   \n",
       "3  //cdnparap130.paragonrels.com/ParagonImages/Pr...  R2328821       1   \n",
       "4  //cdnparap130.paragonrels.com/ParagonImages/Pr...  R2328916       1   \n",
       "\n",
       "                  Address       City Postal Code    S/A  ...  \\\n",
       "0    6107 IMPERIAL STREET    Burnaby         V5T  VBSUD  ...   \n",
       "1  10351 SCOTSDALE AVENUE   Richmond         V7E  VRI41  ...   \n",
       "2    1215 WAVERLEY AVENUE  Vancouver         V5W  VVEKN  ...   \n",
       "3        10127 MARY DRIVE     Surrey         V3V    F25  ...   \n",
       "4         15449 95 AVENUE     Surrey         V3R    F34  ...   \n",
       "\n",
       "  ('Williams Lake',)  ('Williams Lake - City',)  \\\n",
       "0                  0                          0   \n",
       "1                  0                          0   \n",
       "2                  0                          0   \n",
       "3                  0                          0   \n",
       "4                  0                          0   \n",
       "\n",
       "   ('Williams Lake - Rural East',)  ('Williams Lake - Rural North',)  \\\n",
       "0                                0                                 0   \n",
       "1                                0                                 0   \n",
       "2                                0                                 0   \n",
       "3                                0                                 0   \n",
       "4                                0                                 0   \n",
       "\n",
       "   ('Williams Lake - Rural South',)  ('Williams Lake - Rural West',)  \\\n",
       "0                                 0                                0   \n",
       "1                                 0                                0   \n",
       "2                                 0                                0   \n",
       "3                                 0                                0   \n",
       "4                                 0                                0   \n",
       "\n",
       "   ('Willow River',) ('Wilson Creek',)  ('Yale',) ('Yarrow',)  \n",
       "0                  0                 0          0           0  \n",
       "1                  0                 0          0           0  \n",
       "2                  0                 0          0           0  \n",
       "3                  0                 0          0           0  \n",
       "4                  0                 0          0           0  \n",
       "\n",
       "[5 rows x 502 columns]"
      ]
     },
     "execution_count": 5,
     "metadata": {},
     "output_type": "execute_result"
    }
   ],
   "source": [
    "df.head()\n"
   ]
  },
  {
   "cell_type": "markdown",
   "id": "48b092ff",
   "metadata": {},
   "source": [
    "We see an error with the data frame above that two columns ahve been created namely unamed 0.1 and Unamed 0. These two need to be dropped together with a few columsn that have significant null and missing values. These features may be feature engineered in the future. However for the purpose of this capstone will be dropped. "
   ]
  },
  {
   "cell_type": "code",
   "execution_count": 6,
   "id": "4b2c0895",
   "metadata": {},
   "outputs": [],
   "source": [
    "df1=df.drop(['Listing Pictures','Unnamed: 0','ML #','City','Postal Code','S/A',\\\n",
    "              'Address','Depth','TypeDwel','Style of Home','Fixtures Removed Y/N',\\\n",
    "              'Fixtures Remvd','Last Trans Date','Distance to Pub/Rapid Tr',\\\n",
    "              'Dist to School/School Bus','Sold Price','Sold Date','Type',\\\n",
    "              'List_Price_num','Parking Places - Total','Status'],axis = 1)\n",
    "\n",
    "df1 = df1.drop([col for col in df1.columns if 'Unnamed' in col],axis=1)\n",
    "          \n",
    "          \n",
    "        \n",
    "          "
   ]
  },
  {
   "cell_type": "code",
   "execution_count": 7,
   "id": "d325d7fc",
   "metadata": {},
   "outputs": [],
   "source": [
    "df_date=df1\n"
   ]
  },
  {
   "cell_type": "markdown",
   "id": "383959db",
   "metadata": {},
   "source": [
    "We will create two sets of data frames, one which goes through the train, validation and test by random order. And another set that is organized by list date. To set by list date we need to set our index to be the column 'List Date'. Further more we use the function sort_index to list in ascending order. Or from oldest list to most recent list."
   ]
  },
  {
   "cell_type": "markdown",
   "id": "826ee130",
   "metadata": {},
   "source": [
    "##### Train+Validation+Test split with respect to time <a class ='anchor' id = 'part1' ></a> "
   ]
  },
  {
   "cell_type": "code",
   "execution_count": 8,
   "id": "0d1e986a",
   "metadata": {},
   "outputs": [],
   "source": [
    "\n",
    "df_date = df_date.set_index('List Date')\n",
    "df_date=df_date.sort_index()\n",
    "df_test=df1"
   ]
  },
  {
   "cell_type": "code",
   "execution_count": 9,
   "id": "db4d7a48",
   "metadata": {},
   "outputs": [
    {
     "name": "stdout",
     "output_type": "stream",
     "text": [
      "105196\n",
      "131495 131495\n"
     ]
    }
   ],
   "source": [
    "X_date = df_date.drop(['Price_num'], axis=1)\n",
    "y_date = df_date['Price_num'] \n",
    "threshold = int(X_date.shape[0]*0.8)\n",
    "print(threshold)\n",
    "X_remainder_date = X_date.iloc[0:threshold,:]\n",
    "X_test_date = X_date.iloc[threshold:,:]\n",
    "\n",
    "# Sanity check/do the sum of number of rows match unsplit\n",
    "print(X_remainder_date.shape[0]+ X_test_date.shape[0],X_date.shape[0])\n",
    "\n",
    "\n",
    "y_remainder_date = y_date.iloc[0:threshold]\n",
    "y_test_date = y_date.iloc[threshold:]\n",
    "\n"
   ]
  },
  {
   "cell_type": "code",
   "execution_count": 10,
   "id": "43a89507",
   "metadata": {},
   "outputs": [
    {
     "data": {
      "text/html": [
       "<div>\n",
       "<style scoped>\n",
       "    .dataframe tbody tr th:only-of-type {\n",
       "        vertical-align: middle;\n",
       "    }\n",
       "\n",
       "    .dataframe tbody tr th {\n",
       "        vertical-align: top;\n",
       "    }\n",
       "\n",
       "    .dataframe thead th {\n",
       "        text-align: right;\n",
       "    }\n",
       "</style>\n",
       "<table border=\"1\" class=\"dataframe\">\n",
       "  <thead>\n",
       "    <tr style=\"text-align: right;\">\n",
       "      <th></th>\n",
       "      <th>Picture Count</th>\n",
       "      <th>DOM</th>\n",
       "      <th>Tot BR</th>\n",
       "      <th>Tot Baths</th>\n",
       "      <th>TotFlArea</th>\n",
       "      <th>Lot Sz (Sq.Ft.)</th>\n",
       "      <th>Frontage - Feet</th>\n",
       "      <th>#Kitchens</th>\n",
       "      <th>Prop_taxes</th>\n",
       "      <th>List_date_month</th>\n",
       "      <th>...</th>\n",
       "      <th>('Williams Lake',)</th>\n",
       "      <th>('Williams Lake - City',)</th>\n",
       "      <th>('Williams Lake - Rural East',)</th>\n",
       "      <th>('Williams Lake - Rural North',)</th>\n",
       "      <th>('Williams Lake - Rural South',)</th>\n",
       "      <th>('Williams Lake - Rural West',)</th>\n",
       "      <th>('Willow River',)</th>\n",
       "      <th>('Wilson Creek',)</th>\n",
       "      <th>('Yale',)</th>\n",
       "      <th>('Yarrow',)</th>\n",
       "    </tr>\n",
       "    <tr>\n",
       "      <th>List Date</th>\n",
       "      <th></th>\n",
       "      <th></th>\n",
       "      <th></th>\n",
       "      <th></th>\n",
       "      <th></th>\n",
       "      <th></th>\n",
       "      <th></th>\n",
       "      <th></th>\n",
       "      <th></th>\n",
       "      <th></th>\n",
       "      <th></th>\n",
       "      <th></th>\n",
       "      <th></th>\n",
       "      <th></th>\n",
       "      <th></th>\n",
       "      <th></th>\n",
       "      <th></th>\n",
       "      <th></th>\n",
       "      <th></th>\n",
       "      <th></th>\n",
       "      <th></th>\n",
       "    </tr>\n",
       "  </thead>\n",
       "  <tbody>\n",
       "    <tr>\n",
       "      <th>2021-08-30</th>\n",
       "      <td>39</td>\n",
       "      <td>30</td>\n",
       "      <td>5</td>\n",
       "      <td>4</td>\n",
       "      <td>4390</td>\n",
       "      <td>1140900</td>\n",
       "      <td>52</td>\n",
       "      <td>1</td>\n",
       "      <td>748921</td>\n",
       "      <td>8</td>\n",
       "      <td>...</td>\n",
       "      <td>0</td>\n",
       "      <td>0</td>\n",
       "      <td>0</td>\n",
       "      <td>0</td>\n",
       "      <td>0</td>\n",
       "      <td>0</td>\n",
       "      <td>0</td>\n",
       "      <td>0</td>\n",
       "      <td>0</td>\n",
       "      <td>0</td>\n",
       "    </tr>\n",
       "  </tbody>\n",
       "</table>\n",
       "<p>1 rows × 478 columns</p>\n",
       "</div>"
      ],
      "text/plain": [
       "            Picture Count  DOM  Tot BR  Tot Baths  TotFlArea  Lot Sz (Sq.Ft.)  \\\n",
       "List Date                                                                       \n",
       "2021-08-30             39   30       5          4       4390          1140900   \n",
       "\n",
       "            Frontage - Feet  #Kitchens  Prop_taxes  List_date_month  ...  \\\n",
       "List Date                                                            ...   \n",
       "2021-08-30               52          1      748921                8  ...   \n",
       "\n",
       "            ('Williams Lake',)  ('Williams Lake - City',)  \\\n",
       "List Date                                                   \n",
       "2021-08-30                   0                          0   \n",
       "\n",
       "            ('Williams Lake - Rural East',)  ('Williams Lake - Rural North',)  \\\n",
       "List Date                                                                       \n",
       "2021-08-30                                0                                 0   \n",
       "\n",
       "            ('Williams Lake - Rural South',)  ('Williams Lake - Rural West',)  \\\n",
       "List Date                                                                       \n",
       "2021-08-30                                 0                                0   \n",
       "\n",
       "            ('Willow River',)  ('Wilson Creek',)  ('Yale',)  ('Yarrow',)  \n",
       "List Date                                                                 \n",
       "2021-08-30                  0                  0          0            0  \n",
       "\n",
       "[1 rows x 478 columns]"
      ]
     },
     "execution_count": 10,
     "metadata": {},
     "output_type": "execute_result"
    }
   ],
   "source": [
    "X_test_date.iloc[[4000]]"
   ]
  },
  {
   "cell_type": "code",
   "execution_count": null,
   "id": "ba787282",
   "metadata": {},
   "outputs": [],
   "source": []
  },
  {
   "cell_type": "code",
   "execution_count": 11,
   "id": "fe146fed",
   "metadata": {},
   "outputs": [],
   "source": [
    "df_test=df_test.set_index('List Date').sort_index()\n",
    "df_test=df_test.iloc[threshold:]\n",
    "\n"
   ]
  },
  {
   "cell_type": "code",
   "execution_count": null,
   "id": "e426cdc8",
   "metadata": {},
   "outputs": [],
   "source": []
  },
  {
   "cell_type": "markdown",
   "id": "dab86d85",
   "metadata": {},
   "source": [
    "##### Train+Validation+Test split without respect to time\n",
    "For the train, validation, and test split that does not include time. We drop the list date as we will not be able to run a regression with this in. "
   ]
  },
  {
   "cell_type": "code",
   "execution_count": 12,
   "id": "90deb3f6",
   "metadata": {},
   "outputs": [],
   "source": [
    "df1=df1.drop(['List Date'], axis = 1)"
   ]
  },
  {
   "cell_type": "markdown",
   "id": "cd8f5d0b",
   "metadata": {},
   "source": [
    "We primarily have two data frames from the same data, one is organized and has its index based on the date, while the second is not organized at all. Based on these two data frames we will create the train test split as well as validation split in order to reduce the overfitting that we saw in our first notebook. "
   ]
  },
  {
   "cell_type": "code",
   "execution_count": 13,
   "id": "300e3805",
   "metadata": {},
   "outputs": [],
   "source": [
    "from sklearn.model_selection import train_test_split\n",
    "\n",
    "X = df1.drop(['Price_num'], axis=1)\n",
    "y = df1['Price_num'] \n",
    "    \n",
    "X_remainder, X_test, y_remainder, y_test = \\\n",
    "    train_test_split(X, y, test_size = 0.20,\n",
    "                     random_state=1)"
   ]
  },
  {
   "cell_type": "code",
   "execution_count": null,
   "id": "f7ce15f0",
   "metadata": {},
   "outputs": [],
   "source": []
  },
  {
   "cell_type": "markdown",
   "id": "e8eaf744",
   "metadata": {},
   "source": [
    "## Linear Regression <a class ='anchor' id = 'p1q1' ></a> "
   ]
  },
  {
   "cell_type": "markdown",
   "id": "ca54e017",
   "metadata": {},
   "source": [
    "The first model we change into is the linear regression. We will test the model on two types of data. The data frame that is organized by date and not by date. A major difference from the linear regression in the first notebook is that we will use the linear regression from Sk learn instead of the os.linear regression. "
   ]
  },
  {
   "cell_type": "code",
   "execution_count": 12,
   "id": "999731f9",
   "metadata": {},
   "outputs": [],
   "source": [
    "from sklearn.model_selection import cross_val_score\n",
    "from sklearn.linear_model import LinearRegression"
   ]
  },
  {
   "cell_type": "code",
   "execution_count": 13,
   "id": "5d296948",
   "metadata": {},
   "outputs": [
    {
     "name": "stdout",
     "output_type": "stream",
     "text": [
      "R^2 score on training set: 0.7583259990768156\n",
      "R^2 score on test set: 0.7447727712363076\n"
     ]
    }
   ],
   "source": [
    "reg = LinearRegression()\n",
    "reg_fit= reg.fit(X_remainder, y_remainder)\n",
    "print(f\"R^2 score on training set: {reg_fit.score(X_remainder, y_remainder)}\")\n",
    "print(f\"R^2 score on test set: {reg_fit.score(X_test, y_test)}\")"
   ]
  },
  {
   "cell_type": "markdown",
   "id": "da55e665",
   "metadata": {},
   "source": [
    "On the most basic model, we run a linear regression as our baseline. We achieved a 0.708 R-squared value for our train and a 0.606 R-squared for our test set. This is a fairly good baseline where our model although not performing at its best shows that we are able to slightly predict our home sales price. \n",
    "\n",
    "Next we look at how our model performs with K fold cross validation. We use 5 fold to be able to find the average train score. We were able to achieve 0.700 with varying combinations of train and validation sets. For clarification a train+validation+test split makes up all of our data. We split the data into three portions to be able to test and improve our model to perform better as well as reduce overfitting. "
   ]
  },
  {
   "cell_type": "code",
   "execution_count": 14,
   "id": "bdfc81cf",
   "metadata": {},
   "outputs": [],
   "source": [
    "scores = cross_val_score(reg, X_remainder, y_remainder, cv = 5)\n"
   ]
  },
  {
   "cell_type": "code",
   "execution_count": 15,
   "id": "92940529",
   "metadata": {},
   "outputs": [
    {
     "name": "stdout",
     "output_type": "stream",
     "text": [
      "Fold 1: 0.7788355578469341\n",
      "Fold 2: 0.6186170230892394\n",
      "Fold 3: 0.7795858650879984\n",
      "Fold 4: 0.7443867846573322\n",
      "Fold 5: 0.6670229312431478\n",
      "Average Score:0.7176896323849304\n"
     ]
    }
   ],
   "source": [
    "for i in range(len(scores)) :\n",
    "    print(f\"Fold {i+1}: {scores[i]}\")\n",
    "    \n",
    "print(f\"Average Score:{np.mean(scores)}\")    "
   ]
  },
  {
   "cell_type": "markdown",
   "id": "ad6dc916",
   "metadata": {},
   "source": [
    "You can also use K-fold cross validation in order to improve our parameters. You will find an example below were we use varying different c values in a for loop to find the highest R-squared value. "
   ]
  },
  {
   "cell_type": "code",
   "execution_count": 16,
   "id": "1fa0b737",
   "metadata": {},
   "outputs": [],
   "source": [
    "cross_validation_scores = []\n",
    "\n",
    "C_range = np.array([.00000001,.0000001,.000001,.00001,.0001,.001,.1,\\\n",
    "                1,10,100,1000,10000,100000,1000000,10000000,100000000,1000000000])\n",
    "\n",
    "#Do some cross validation\n",
    "for c in C_range:\n",
    "    reg = LinearRegression(n_jobs=c)\n",
    "    \n",
    "    # the cross validation score (mean of scores from all folds)\n",
    "    cv_score = np.mean(cross_val_score(reg, X_remainder, y_remainder, cv = 5))\n",
    "    \n",
    "    cross_validation_scores.append(cv_score)"
   ]
  },
  {
   "cell_type": "markdown",
   "id": "7052ca8f",
   "metadata": {},
   "source": [
    "With the information inputted we plot this below. Although we changed the c value, this does not have a significant impact on our R-squared value. This means that we will not need to change anything for our linear regression. "
   ]
  },
  {
   "cell_type": "code",
   "execution_count": 17,
   "id": "da3c7831",
   "metadata": {
    "scrolled": true
   },
   "outputs": [
    {
     "data": {
      "image/png": "[encoded data removed]",
      "text/plain": [
       "<Figure size 640x480 with 1 Axes>"
      ]
     },
     "metadata": {},
     "output_type": "display_data"
    }
   ],
   "source": [
    "plt.figure()\n",
    "plt.plot(C_range, cross_validation_scores,label=\"Cross Validation Score\",marker='.')\n",
    "plt.legend()\n",
    "plt.xscale(\"log\")\n",
    "plt.xlabel('Regularization Parameter: C')\n",
    "plt.ylabel('Cross Validation Score')\n",
    "plt.grid()\n",
    "plt.show();"
   ]
  },
  {
   "cell_type": "code",
   "execution_count": 18,
   "id": "38879ebc",
   "metadata": {},
   "outputs": [
    {
     "name": "stdout",
     "output_type": "stream",
     "text": [
      "R^2 score on training set: 0.7601028167376984\n",
      "R^2 score on test set: 0.6918978346039175\n"
     ]
    }
   ],
   "source": [
    "reg_date = LinearRegression()\n",
    "reg_fit_date= reg_date.fit(X_remainder_date, y_remainder_date)\n",
    "print(f\"R^2 score on training set: {reg_fit_date.score(X_remainder_date, y_remainder_date)}\")\n",
    "print(f\"R^2 score on test set: {reg_fit_date.score(X_test_date, y_test_date)}\")"
   ]
  },
  {
   "cell_type": "markdown",
   "id": "d86ba420",
   "metadata": {},
   "source": [
    "## K Nearest Neighbour Regressor (KNN) <a class ='anchor' id = 'p1q2' ></a> \n",
    "\n",
    "The next model we will attempt is the K Nearest Neighbour Regressor. As a simple explanation, the KNN regression model uses clusters or data points that have very similar attibutes and groups them. Through this we are able to predict that if something nearby occurs that a similar data point may have the same effect. \n",
    "\n",
    "As we have seen in the linear regression we will apply K fold cross validation to find the very accuracy score "
   ]
  },
  {
   "cell_type": "code",
   "execution_count": 19,
   "id": "caa1c21a",
   "metadata": {},
   "outputs": [
    {
     "ename": "AttributeError",
     "evalue": "module 'matplotlib.pyplot' has no attribute 'tittle'",
     "output_type": "error",
     "traceback": [
      "\u001b[0;31m---------------------------------------------------------------------------\u001b[0m",
      "\u001b[0;31mAttributeError\u001b[0m                            Traceback (most recent call last)",
      "Cell \u001b[0;32mIn [19], line 34\u001b[0m\n\u001b[1;32m     32\u001b[0m plt\u001b[38;5;241m.\u001b[39mfigure()\n\u001b[1;32m     33\u001b[0m plt\u001b[38;5;241m.\u001b[39mplot(k_values, cv_scores)\n\u001b[0;32m---> 34\u001b[0m \u001b[43mplt\u001b[49m\u001b[38;5;241;43m.\u001b[39;49m\u001b[43mtittle\u001b[49m(\u001b[38;5;124m'\u001b[39m\u001b[38;5;124mAccuracy and N_neighbours\u001b[39m\u001b[38;5;124m'\u001b[39m)\n\u001b[1;32m     35\u001b[0m \u001b[38;5;66;03m#plt.scatter(x_points, y_points, alpha=0.5) # OPTIONAL\u001b[39;00m\n\u001b[1;32m     36\u001b[0m plt\u001b[38;5;241m.\u001b[39mxlabel(\u001b[38;5;124m'\u001b[39m\u001b[38;5;124mn neighbors\u001b[39m\u001b[38;5;124m'\u001b[39m)\n",
      "\u001b[0;31mAttributeError\u001b[0m: module 'matplotlib.pyplot' has no attribute 'tittle'"
     ]
    },
    {
     "data": {
      "image/png": "[encoded data removed]",
      "text/plain": [
       "<Figure size 640x480 with 1 Axes>"
      ]
     },
     "metadata": {},
     "output_type": "display_data"
    }
   ],
   "source": [
    "# Define our list of k values to try out\n",
    "k_values = list(range(1, 61, 2))\n",
    "\n",
    "# Create a list to hold our cross-validation scores\n",
    "cv_scores = []\n",
    "\n",
    "\n",
    "# OPTIONAL (if you want a scatterplot of individual fold validation scores)\n",
    "# NOT TYPICALLY DONE\n",
    "x_points = []\n",
    "y_points = []\n",
    "\n",
    "\n",
    "\n",
    "for k in k_values:\n",
    "\n",
    "    \n",
    "    # Instantiate a knn classifier\n",
    "    knn = KNeighborsRegressor(n_neighbors=k)\n",
    "    \n",
    "    # Calculate the 4 validation scores via cross-val & append average to list\n",
    "    scores = cross_val_score(knn, X_remainder, y_remainder, cv=4)\n",
    "    \n",
    "    cv_scores.append(np.mean(scores))\n",
    "    \n",
    "\n",
    "    # OPTIONAL: Keep track of x & y coordinates of every fold's validation score\n",
    "    x_points.extend([k]*4)\n",
    "    y_points.extend(scores)\n",
    "    \n",
    "\n",
    "plt.figure()\n",
    "plt.plot(k_values, cv_scores)\n",
    "plt.title('Accuracy and N_neighbours')\n",
    "#plt.scatter(x_points, y_points, alpha=0.5) # OPTIONAL\n",
    "plt.xlabel('n neighbors')\n",
    "plt.ylabel('accuracy')\n",
    "plt.show()"
   ]
  },
  {
   "cell_type": "code",
   "execution_count": 20,
   "id": "84341363",
   "metadata": {},
   "outputs": [
    {
     "data": {
      "image/png": "[encoded data removed]",
      "text/plain": [
       "<Figure size 640x480 with 1 Axes>"
      ]
     },
     "metadata": {},
     "output_type": "display_data"
    }
   ],
   "source": [
    "plt.figure()\n",
    "plt.plot(k_values, cv_scores)\n",
    "plt.title('Accuracy and N_neighbours')\n",
    "#plt.scatter(x_points, y_points, alpha=0.5) # OPTIONAL\n",
    "plt.xlabel('n neighbors')\n",
    "plt.ylabel('accuracy')\n",
    "plt.show()"
   ]
  },
  {
   "cell_type": "code",
   "execution_count": 21,
   "id": "83763b4f",
   "metadata": {},
   "outputs": [
    {
     "name": "stdout",
     "output_type": "stream",
     "text": [
      "The best model has K =  17\n"
     ]
    }
   ],
   "source": [
    "which_max = np.array(cv_scores).argmax()\n",
    "print(\"The best model has K = \",k_values[which_max])"
   ]
  },
  {
   "cell_type": "markdown",
   "id": "d76ec587",
   "metadata": {},
   "source": [
    "We have found that the optimal K value is 13. We shall input this into the KNN model as our parameters and fit the model and score this. We see that there is a Train score of 1.0 which is able to predict with very high accuracy. However against our test set we see a r-squared of 0.707 which means that the KNN model severly overfits on our train set and performs poorly onto the test set. "
   ]
  },
  {
   "cell_type": "code",
   "execution_count": 25,
   "id": "a077a386",
   "metadata": {},
   "outputs": [
    {
     "name": "stdout",
     "output_type": "stream",
     "text": [
      "0.9999999990199652\n",
      "0.7133892848861417\n"
     ]
    }
   ],
   "source": [
    "KNNmodel = KNeighborsRegressor(n_neighbors=17,weights='distance')\n",
    "KNNmodel.fit(X_remainder, y_remainder)\n",
    "\n",
    "print(KNNmodel.score(X_remainder, y_remainder))\n",
    "print(KNNmodel.score(X_test,y_test))\n"
   ]
  },
  {
   "cell_type": "markdown",
   "id": "6b3b7cb3",
   "metadata": {},
   "source": [
    "We then test the effects of running the same model on the data with respect to time. Or in otherwords only feeding our model information from the fiorst 80% of the data set to see if this can still predict homes within the last 20% of our data. "
   ]
  },
  {
   "cell_type": "code",
   "execution_count": 26,
   "id": "e89be8e0",
   "metadata": {},
   "outputs": [
    {
     "name": "stdout",
     "output_type": "stream",
     "text": [
      "0.9999999989556804\n",
      "0.6973515034202052\n"
     ]
    }
   ],
   "source": [
    "KNNmodel = KNeighborsRegressor(n_neighbors=17,weights='distance')\n",
    "KNNmodel.fit(X_remainder_date, y_remainder_date)\n",
    "\n",
    "print(KNNmodel.score(X_remainder_date, y_remainder_date))\n",
    "print(KNNmodel.score(X_test_date,y_test_date))\n"
   ]
  },
  {
   "cell_type": "markdown",
   "id": "9f15457d",
   "metadata": {},
   "source": [
    "## Gradient Boosting <a class ='anchor' id = 'p1q3' ></a> \n",
    "\n",
    "We initiate our gradient boosting and test both splits that we have made(split by time and randomly split)\n",
    "\n",
    "The first is the data that is split randomly using a regular train test split. "
   ]
  },
  {
   "cell_type": "code",
   "execution_count": 15,
   "id": "b694466e",
   "metadata": {},
   "outputs": [],
   "source": [
    "from sklearn import ensemble\n",
    "class StandardModel:\n",
    "    \n",
    "    model = ensemble.GradientBoostingRegressor(n_estimators = 400, max_depth = 20, min_samples_split = 2,\n",
    "          learning_rate = 0.1, loss = 'ls')\n",
    "#min_child_weight, eta add these parameters if we have time try n_estimators = 300,200,100, and Max depth = 15,10,5"
   ]
  },
  {
   "cell_type": "code",
   "execution_count": null,
   "id": "443e33f5",
   "metadata": {},
   "outputs": [],
   "source": [
    "our_model = StandardModel()\n",
    "\n",
    "GRB_fit = our_model.model.fit(X_remainder, y_remainder)"
   ]
  },
  {
   "cell_type": "code",
   "execution_count": null,
   "id": "1ef72988",
   "metadata": {},
   "outputs": [],
   "source": [
    "print(f\"R^2 score on training set: {GRB_fit.score(X_remainder, y_remainder)}\")\n",
    "print(f\"R^2 score on test set: {GRB_fit.score(X_test, y_test)}\")\n"
   ]
  },
  {
   "cell_type": "markdown",
   "id": "4037f601",
   "metadata": {},
   "source": [
    "We then instantiate the model which we will apply to the train and validation sets with respect to date or in other words the first 80% of the houses listed. "
   ]
  },
  {
   "cell_type": "code",
   "execution_count": null,
   "id": "b414b547",
   "metadata": {},
   "outputs": [],
   "source": [
    "our_model_date = StandardModel()\n",
    "\n",
    "GRB_fit_date = our_model_date.model.fit(X_remainder_date, y_remainder_date)\n",
    "\n"
   ]
  },
  {
   "cell_type": "code",
   "execution_count": null,
   "id": "8a3174c0",
   "metadata": {},
   "outputs": [],
   "source": [
    "print(f\"R^2 score on training set: {GRB_fit_date.score(X_remainder_date, y_remainder_date)}\")\n",
    "print(f\"R^2 score on test set: {GRB_fit_date.score(X_test_date, y_test_date)}\")\n"
   ]
  },
  {
   "cell_type": "markdown",
   "id": "f1447dfe",
   "metadata": {},
   "source": [
    "With the two basic models run, we hyperparametize the model in regards to time. This will give us the best parameters"
   ]
  },
  {
   "cell_type": "code",
   "execution_count": null,
   "id": "eacae4a0",
   "metadata": {},
   "outputs": [],
   "source": [
    "from sklearn.pipeline import Pipeline\n",
    "from sklearn.model_selection import GridSearchCV\n",
    "from sklearn.decomposition import KernelPCA\n",
    "    "
   ]
  },
  {
   "cell_type": "code",
   "execution_count": null,
   "id": "46468e97",
   "metadata": {},
   "outputs": [],
   "source": [
    "\n",
    "estimators = [\n",
    "    ('model',ensemble.GradientBoostingRegressor())\n",
    "]\n",
    "pipe_GBR = Pipeline(estimators)"
   ]
  },
  {
   "cell_type": "code",
   "execution_count": null,
   "id": "489dabb7",
   "metadata": {},
   "outputs": [],
   "source": [
    "\n",
    "\n",
    "# Three models, two scalers, two dimensional reducers\n",
    "# Since each model has different parameter names, they each have to go in a separate dictionary. \n",
    "\n",
    "\n",
    "param_grid_GBR = [\n",
    "    {\n",
    "        'model': [ensemble.GradientBoostingRegressor()], \n",
    "        'model__n_estimators': [100,200,300,400],\n",
    "        'model__max_depth':[5,10,15],\n",
    "        'model__min_samples_split':[2,3]\n",
    "    }\n",
    "]\n",
    "\n",
    "grid_GBR = GridSearchCV(pipe_GBR, param_grid_GBR, cv=tscv,verbose=20)\n",
    "\n",
    "fittedgrid_GBR = grid_GBR.fit(X_remainder_date, y_remainder_date)\n",
    "\n",
    "\n"
   ]
  },
  {
   "cell_type": "code",
   "execution_count": null,
   "id": "ff36243d",
   "metadata": {
    "scrolled": true
   },
   "outputs": [],
   "source": [
    "fittedgrid_GBR.best_params_\n"
   ]
  },
  {
   "cell_type": "code",
   "execution_count": 16,
   "id": "5c73e6e1",
   "metadata": {},
   "outputs": [],
   "source": [
    "from sklearn import ensemble\n",
    "class StandardModel:\n",
    "    \n",
    "    model = ensemble.GradientBoostingRegressor(n_estimators = 300, max_depth = 5, min_samples_split = 2,\n",
    "          learning_rate = 0.1, loss = 'ls')\n"
   ]
  },
  {
   "cell_type": "code",
   "execution_count": 17,
   "id": "6ee20827",
   "metadata": {},
   "outputs": [],
   "source": [
    "our_model_date2 = StandardModel()\n",
    "\n",
    "GRB_fit_date2 = our_model_date2.model.fit(X_remainder_date, y_remainder_date)"
   ]
  },
  {
   "cell_type": "code",
   "execution_count": 18,
   "id": "e18502d7",
   "metadata": {},
   "outputs": [
    {
     "name": "stdout",
     "output_type": "stream",
     "text": [
      "R^2 score on training set: 0.9392525398725114\n",
      "R^2 score on test set: 0.8679641926999443\n"
     ]
    }
   ],
   "source": [
    "print(f\"R^2 score on training set: {GRB_fit_date2.score(X_remainder_date, y_remainder_date)}\")\n",
    "print(f\"R^2 score on test set: {GRB_fit_date2.score(X_test_date, y_test_date)}\")\n"
   ]
  },
  {
   "cell_type": "code",
   "execution_count": 20,
   "id": "c8ab83bb",
   "metadata": {},
   "outputs": [],
   "source": [
    "filename = 'finalized_model.sav'\n",
    "pickle.dump(GRB_fit_date2, open(filename, 'wb'))"
   ]
  },
  {
   "cell_type": "code",
   "execution_count": 26,
   "id": "a2f868c4",
   "metadata": {},
   "outputs": [],
   "source": [
    "# load the model from disk\n",
    "loaded_model = pickle.load(open('finalized_model.sav', 'rb'))\n",
    "\n",
    "\n",
    "\n"
   ]
  },
  {
   "cell_type": "code",
   "execution_count": 23,
   "id": "dbe42c02",
   "metadata": {
    "scrolled": true
   },
   "outputs": [
    {
     "name": "stdout",
     "output_type": "stream",
     "text": [
      "[2337088.77437424]\n"
     ]
    }
   ],
   "source": [
    "result = loaded_model.predict(X_test_date.iloc[[4000]])\n",
    "print(result)"
   ]
  },
  {
   "cell_type": "code",
   "execution_count": 17,
   "id": "e7bc69e2",
   "metadata": {},
   "outputs": [
    {
     "data": {
      "text/plain": [
       "List Date\n",
       "2021-08-30    2265000\n",
       "Name: Price_num, dtype: int64"
      ]
     },
     "execution_count": 17,
     "metadata": {},
     "output_type": "execute_result"
    }
   ],
   "source": [
    "y_test_date.iloc[[4000]]"
   ]
  },
  {
   "cell_type": "markdown",
   "id": "eb34ea72",
   "metadata": {},
   "source": [
    "After hyper parametization with grid search, I was able to end with a high R-squared test score of 0.87 with a train score of 0.92 which shows relatively low overfitting. "
   ]
  },
  {
   "cell_type": "markdown",
   "id": "d86fafb1",
   "metadata": {},
   "source": [
    "## XG Boosting <a class ='anchor' id = 'p1q4' ></a> "
   ]
  },
  {
   "cell_type": "markdown",
   "id": "511a0846",
   "metadata": {},
   "source": [
    "After observing the past three models we run our last model. Once all models have run a basic model we will observe which has the highest test and train score as well as which has the least overfitting. So far the order is Gradient, KNN, then the linear regression. "
   ]
  },
  {
   "cell_type": "code",
   "execution_count": 34,
   "id": "e2b5e4df",
   "metadata": {},
   "outputs": [
    {
     "name": "stderr",
     "output_type": "stream",
     "text": [
      "/Users/davidongtenco/opt/anaconda3/envs/boosting/lib/python3.8/site-packages/xgboost/compat.py:93: FutureWarning: pandas.Int64Index is deprecated and will be removed from pandas in a future version. Use pandas.Index with the appropriate dtype instead.\n",
      "  from pandas import MultiIndex, Int64Index\n"
     ]
    }
   ],
   "source": [
    "import xgboost as xg\n",
    "from sklearn.pipeline import Pipeline\n",
    "from sklearn.model_selection import TimeSeriesSplit\n"
   ]
  },
  {
   "cell_type": "markdown",
   "id": "dd8cccca",
   "metadata": {},
   "source": [
    "First we work on the randomly split data to find out if we can properly predict home prices. We apply two trains of though to reduce over fitting. We apply a PCA to see if this will assist and we can observe our model bellow. "
   ]
  },
  {
   "cell_type": "code",
   "execution_count": null,
   "id": "155fe23a",
   "metadata": {},
   "outputs": [],
   "source": [
    "XGB = xg.XGBRegressor(objective ='reg:linear',\n",
    "                  n_estimators = 20, seed = 123)\n",
    "\n",
    "XGB.fit(X_remainder, y_remainder)\n",
    "print(XGB.score(X_remainder, y_remainder))\n",
    "print(XGB.score(X_test,y_test))"
   ]
  },
  {
   "cell_type": "code",
   "execution_count": null,
   "id": "3df052b1",
   "metadata": {},
   "outputs": [],
   "source": [
    "from sklearn.decomposition import PCA\n",
    "x_pca= X_remainder\n",
    "y_pca= y_remainder\n",
    "X_test_pca = X_test\n",
    "pca = PCA()\n",
    "\n",
    "pca.fit(x_pca)\n",
    "x_pca = pca.transform(x_pca)\n",
    "X_test_pca = pca.transform(X_test_pca)\n",
    "\n",
    "\n",
    "XGB = xg.XGBRegressor(objective ='reg:linear',\n",
    "                  n_estimators = 20, seed = 123)\n",
    "\n",
    "XGB.fit(x_pca, y_pca)\n",
    "print(XGB.score(x_pca, y_pca))\n",
    "print(XGB.score(X_test_pca,y_test))"
   ]
  },
  {
   "cell_type": "markdown",
   "id": "66e5a345",
   "metadata": {},
   "source": [
    "Next we model our data with the same model with the exact same parameters to find out "
   ]
  },
  {
   "cell_type": "code",
   "execution_count": null,
   "id": "cc22a374",
   "metadata": {},
   "outputs": [],
   "source": [
    "XGB = xg.XGBRegressor(objective ='reg:linear',\n",
    "                  n_estimators = 20, seed = 123)\n",
    "\n",
    "XGB.fit(X_remainder_date, y_remainder_date)\n",
    "print(XGB.score(X_remainder_date, y_remainder_date))\n",
    "print(XGB.score(X_test_date,y_test_date))"
   ]
  },
  {
   "cell_type": "code",
   "execution_count": null,
   "id": "e799386e",
   "metadata": {},
   "outputs": [],
   "source": [
    "x_pca_date= X_remainder_date\n",
    "y_pca_date= y_remainder_date\n",
    "X_test_pca_date = X_test_date\n",
    "pca = PCA()\n",
    "\n",
    "pca.fit(x_pca_date)\n",
    "x_pca = pca.transform(x_pca_date)\n",
    "X_test_pca = pca.transform(X_test_pca_date)\n",
    "\n",
    "XGB = xg.XGBRegressor(objective ='reg:linear',\n",
    "                  n_estimators = 20, seed = 123)\n",
    "\n",
    "XGB.fit(x_pca_date, y_pca_date)\n",
    "print(XGB.score(x_pca_date, y_pca_date))\n",
    "print(XGB.score(X_test_pca_date,y_test))"
   ]
  },
  {
   "cell_type": "markdown",
   "id": "be1cd6b0",
   "metadata": {},
   "source": [
    "Compared to our initial model in the 3rd notebook adding PCA failed to improve our model. Our next step will be to try a K-fold cross validation to increase our XG boost results. "
   ]
  },
  {
   "cell_type": "code",
   "execution_count": null,
   "id": "2ccd02ca",
   "metadata": {},
   "outputs": [],
   "source": [
    "# Define our list of k values to try out\n",
    "k_values = list(range(20,61,10))\n",
    "\n",
    "# Create a list to hold our cross-validation scores\n",
    "cv_scores = []\n",
    "\n",
    "for k in k_values:\n",
    "    \n",
    "    print(k)\n",
    "    \n",
    "    # Instantiate a knn classifier\n",
    "    XGB = xg.XGBRegressor(objective ='reg:linear', n_estimators = k, seed = 123)\n",
    "    \n",
    "    # Calculate the 4 validation scores via cross-val & append average to list\n",
    "    scores = cross_val_score(XGB, X_remainder, y_remainder, cv=4)\n",
    "    \n",
    "    cv_scores.append(np.mean(scores))\n",
    "    \n",
    "\n",
    "    # OPTIONAL: Keep track of x & y coordinates of every fold's validation score\n",
    "    x_points.extend([k]*4)\n",
    "    y_points.extend(scores)\n",
    "    \n",
    "\n",
    "plt.figure()\n",
    "plt.plot(k_values, cv_scores)\n",
    "# plt.scatter(x_points, y_points, alpha=0.5) # OPTIONAL\n",
    "plt.xlabel('n neighbors')\n",
    "plt.ylabel('R-sq')\n",
    "plt.show()"
   ]
  },
  {
   "cell_type": "code",
   "execution_count": null,
   "id": "4b363cf9",
   "metadata": {},
   "outputs": [],
   "source": [
    "\n",
    "estimators = [\n",
    "     #('dim_reducer', PCA()),\n",
    "    ('model',xg.XGBRegressor())\n",
    "]\n",
    "pipe = Pipeline(estimators)"
   ]
  },
  {
   "cell_type": "code",
   "execution_count": null,
   "id": "89ab9e90",
   "metadata": {},
   "outputs": [],
   "source": [
    "from sklearn.model_selection import GridSearchCV\n",
    "from sklearn.decomposition import KernelPCA"
   ]
  },
  {
   "cell_type": "code",
   "execution_count": null,
   "id": "1b1c4931",
   "metadata": {},
   "outputs": [],
   "source": [
    "\n",
    "\n",
    "# Three models, two scalers, two dimensional reducers\n",
    "# Since each model has different parameter names, they each have to go in a separate dictionary. \n",
    "\n",
    "\n",
    "param_grid = [\n",
    "    {\n",
    "        'model': [xg.XGBRegressor()], \n",
    "        'model__n_estimators': [1,5,20,40,60],\n",
    "        'model__min_child_weight': [3,6],\n",
    "        'model__eta':[0.2,0.8],\n",
    "        'model__max_depth':[3,11]\n",
    "    }\n",
    "]\n",
    "\n",
    "grid = GridSearchCV(pipe, param_grid, cv=5,verbose=20)\n",
    "\n",
    "fittedgrid = grid.fit(X_remainder, y_remainder)\n",
    "\n",
    "\n"
   ]
  },
  {
   "cell_type": "code",
   "execution_count": null,
   "id": "07909140",
   "metadata": {},
   "outputs": [],
   "source": [
    "fittedgrid.best_params_\n",
    "\n"
   ]
  },
  {
   "cell_type": "code",
   "execution_count": null,
   "id": "7e843ea0",
   "metadata": {},
   "outputs": [],
   "source": [
    "XGB_update=xg.XGBRegressor(min_child_weight = 3, n_estimators=20)\n",
    "\n"
   ]
  },
  {
   "cell_type": "code",
   "execution_count": null,
   "id": "1a3f5fbb",
   "metadata": {},
   "outputs": [],
   "source": [
    "X_remainder_date = X_remainder_date.reset_index()\n",
    "X_remainder_date\n"
   ]
  },
  {
   "cell_type": "code",
   "execution_count": null,
   "id": "e6e351ef",
   "metadata": {},
   "outputs": [],
   "source": [
    "X_remainder_date=X_remainder_date.drop(['List Date'],axis =1)"
   ]
  },
  {
   "cell_type": "markdown",
   "id": "226968c6",
   "metadata": {},
   "source": [
    "Using time series cross validation for the XG boosting \n"
   ]
  },
  {
   "cell_type": "code",
   "execution_count": null,
   "id": "995e1793",
   "metadata": {},
   "outputs": [],
   "source": [
    "\n",
    "\n",
    "\n",
    "\n",
    "tscv = TimeSeriesSplit(max_train_size=None, n_splits =3)\n",
    "for train_index, test_index in tscv.split(X_remainder_date): \n",
    "    print('TRAIN:', train_index, 'TEST:', test_index) \n",
    "    \n",
    "    X_train_r, X_test_r =  X_remainder_date.loc[train_index,:], X_remainder_date.loc[test_index,:]\n",
    "    print('X done')\n",
    "    y_train_r, y_test_r = y_remainder_date[train_index], y_remainder_date[test_index]\n",
    "    print('y done')\n",
    "\n",
    "\n",
    "\n",
    "\n",
    "\n"
   ]
  },
  {
   "cell_type": "code",
   "execution_count": null,
   "id": "fd1d0c5d",
   "metadata": {},
   "outputs": [],
   "source": [
    "# Define our list of k values to try out\n",
    "k_values = list(range(0, 20,2))\n",
    "\n",
    "# Create a list to hold our cross-validation scores\n",
    "cv_scores = []\n",
    "\n",
    "\n",
    "# OPTIONAL (if you want a scatterplot of individual fold validation scores)\n",
    "# NOT TYPICALLY DONE\n",
    "x_points = []\n",
    "y_points = []\n",
    "\n",
    "\n",
    "\n",
    "for k in k_values:\n",
    "    \n",
    "    print(k)\n",
    "    \n",
    "    # Instantiate a knn classifier\n",
    "    XGB = xg.XGBRegressor(objective ='reg:linear', n_estimators = k, seed = 123)\n",
    "    \n",
    "    # Calculate the 4 validation scores via cross-val & append average to list\n",
    "    scores = cross_val_score(XGB, X_remainder_date, y_remainder_date, cv=tscv)\n",
    "    \n",
    "    cv_scores.append(np.mean(scores))\n",
    "    \n",
    "\n",
    "    # OPTIONAL: Keep track of x & y coordinates of every fold's validation score\n",
    "    x_points.extend([k]*4)\n",
    "    y_points.extend(scores)\n",
    "    \n",
    "\n",
    "plt.figure()\n",
    "plt.plot(k_values, cv_scores)\n",
    "# plt.scatter(x_points, y_points, alpha=0.5) # OPTIONAL\n",
    "plt.xlabel('n neighbors')\n",
    "plt.ylabel('R-sq')\n",
    "plt.show()"
   ]
  },
  {
   "cell_type": "code",
   "execution_count": null,
   "id": "86799b37",
   "metadata": {},
   "outputs": [],
   "source": [
    "# Find the index of best K\n",
    "best_idx = np.argmax(cv_scores)\n",
    "k_values[best_idx]"
   ]
  },
  {
   "cell_type": "code",
   "execution_count": null,
   "id": "c68b3c15",
   "metadata": {},
   "outputs": [],
   "source": [
    "XGB_date = xg.XGBRegressor(objective ='reg:linear',\n",
    "                  n_estimators = 500, seed = 123)"
   ]
  },
  {
   "cell_type": "code",
   "execution_count": null,
   "id": "bfd2af3e",
   "metadata": {},
   "outputs": [],
   "source": [
    "x_pca_date= X_remainder_date\n",
    "y_pca_date= y_remainder_date\n",
    "X_test_pca = X_test_date\n",
    "pca_date = PCA(n_components =0.9)\n",
    "\n",
    "pca_date.fit(x_pca_date)\n",
    "x_pca_date=pca.transform(x_pca_date)\n",
    "X_test_pca=pca.transform(X_test_pca)\n",
    "XGB_date.fit(x_pca_date, y_pca_date)\n",
    "print(XGB_date.score(x_pca_date, y_pca_date))\n",
    "print(XGB_date.score(X_test_pca,y_test_date))"
   ]
  },
  {
   "cell_type": "code",
   "execution_count": null,
   "id": "0bbdbf0c",
   "metadata": {},
   "outputs": [],
   "source": [
    "XGB_date.fit(X_remainder_date, y_remainder_date)\n",
    "print(XGB_date.score(X_remainder_date, y_remainder_date))\n",
    "print(XGB_date.score(X_test_date,y_test_date))"
   ]
  },
  {
   "cell_type": "code",
   "execution_count": null,
   "id": "3de92057",
   "metadata": {},
   "outputs": [],
   "source": [
    "param_grid_date = [\n",
    "    {\n",
    "        #'dim_reducer': [PCA(), KernelPCA()],\n",
    "        'model': [xg.XGBRegressor()], \n",
    "        'model__n_estimators': [100, 300],\n",
    "        #'model__min_child_weight': [3,6],\n",
    "        'model__max_depth':[10,50]\n",
    "    }\n",
    "]\n",
    "\n",
    "grid_date = GridSearchCV(pipe, param_grid_date, cv=tscv,verbose=20)\n",
    "\n",
    "fittedgrid_date = grid_date.fit(X_remainder_date, y_remainder_date,verbose=20)\n",
    "\n",
    "\n"
   ]
  },
  {
   "cell_type": "code",
   "execution_count": null,
   "id": "a5d4a3a0",
   "metadata": {},
   "outputs": [],
   "source": [
    "fittedgrid_date.best_estimator_"
   ]
  },
  {
   "cell_type": "code",
   "execution_count": null,
   "id": "a7756341",
   "metadata": {},
   "outputs": [],
   "source": [
    "param_grid_date2 = [\n",
    "    {\n",
    "        #'dim_reducer': [PCA(), KernelPCA()],\n",
    "        'model': [xg.XGBRegressor()], \n",
    "        'model__n_estimators': [300],\n",
    "        #'model__min_child_weight': [3,6],\n",
    "        'model__max_depth':[10,15,20]\n",
    "    }\n",
    "]\n",
    "\n",
    "grid_date2 = GridSearchCV(pipe, param_grid_date2, cv=tscv,verbose=20)\n",
    "\n",
    "fittedgrid_date2 = grid_date2.fit(X_remainder_date, y_remainder_date)"
   ]
  },
  {
   "cell_type": "code",
   "execution_count": null,
   "id": "a2dd95d2",
   "metadata": {},
   "outputs": [],
   "source": [
    "fittedgrid_date2.best_estimator_"
   ]
  },
  {
   "cell_type": "code",
   "execution_count": null,
   "id": "13125550",
   "metadata": {},
   "outputs": [],
   "source": [
    "param_grid_date3 = [\n",
    "    {\n",
    "        #'dim_reducer': [PCA(), KernelPCA()],\n",
    "        'model': [xg.XGBRegressor()], \n",
    "        'model__n_estimators': [300,500],\n",
    "        #'model__min_child_weight': [3,6],\n",
    "        'model__max_depth':[5,10]\n",
    "    }\n",
    "]\n",
    "\n",
    "grid_date3 = GridSearchCV(pipe, param_grid_date3, cv=tscv,verbose=20)\n",
    "\n",
    "fittedgrid_date3 = grid_date3.fit(X_remainder_date, y_remainder_date)"
   ]
  },
  {
   "cell_type": "code",
   "execution_count": null,
   "id": "9762fd4c",
   "metadata": {},
   "outputs": [],
   "source": [
    "fittedgrid_date3.best_estimator_"
   ]
  },
  {
   "cell_type": "markdown",
   "id": "58e3e4ad",
   "metadata": {},
   "source": [
    "We then apply our best parameters after using the grid search to find our hyoperparameters back into our model to test how it performs. "
   ]
  },
  {
   "cell_type": "code",
   "execution_count": 35,
   "id": "5d82f6b5",
   "metadata": {},
   "outputs": [],
   "source": [
    "XGB_best=xg.XGBRegressor(base_score=0.5, booster='gbtree',\n",
    "                              colsample_bylevel=1, colsample_bynode=1,\n",
    "                              colsample_bytree=1, gamma=0, gpu_id=-1,\n",
    "                              importance_type='gain',\n",
    "                              interaction_constraints='',\n",
    "                              learning_rate=0.300000012, max_delta_step=0,\n",
    "                              max_depth=10, min_child_weight=1,\n",
    "                              monotone_constraints='()', n_estimators=500,\n",
    "                              n_jobs=0, num_parallel_tree=1, random_state=0,\n",
    "                              reg_alpha=0, reg_lambda=1, scale_pos_weight=1,\n",
    "                              subsample=1, tree_method='exact',\n",
    "                              validate_parameters=1, verbosity=None)"
   ]
  },
  {
   "cell_type": "code",
   "execution_count": 36,
   "id": "1baa1858",
   "metadata": {},
   "outputs": [
    {
     "name": "stdout",
     "output_type": "stream",
     "text": [
      "0.996886169695937\n",
      "0.8599095896145994\n"
     ]
    }
   ],
   "source": [
    "XGB_best.fit(X_remainder_date, y_remainder_date)\n",
    "print(XGB_best.score(X_remainder_date, y_remainder_date))\n",
    "print(XGB_best.score(X_test_date,y_test_date))\n",
    "\n",
    "\n"
   ]
  },
  {
   "cell_type": "code",
   "execution_count": null,
   "id": "e81d1989",
   "metadata": {},
   "outputs": [],
   "source": [
    "x_pca_date= X_remainder_date\n",
    "y_pca_date= y_remainder_date\n",
    "X_test_pca = X_test_date\n",
    "pca_date = PCA(n_components = 0.80)\n",
    "\n",
    "pca_date.fit(x_pca_date)\n",
    "x_pca_date=pca_date.transform(x_pca_date)\n",
    "X_test_pca=pca_date.transform(X_test_pca)\n",
    "\n",
    "XGB_best=xg.XGBRegressor(base_score=0.5, booster='gbtree',\n",
    "                              colsample_bylevel=1, colsample_bynode=1,\n",
    "                              colsample_bytree=1, gamma=0, gpu_id=-1,\n",
    "                              importance_type='gain',\n",
    "                              interaction_constraints='',\n",
    "                              learning_rate=0.300000012, max_delta_step=0,\n",
    "                              max_depth=10, min_child_weight=1,\n",
    "                              monotone_constraints='()', n_estimators=300,\n",
    "                              n_jobs=0, num_parallel_tree=1, random_state=0,\n",
    "                              reg_alpha=0, reg_lambda=1, scale_pos_weight=1,\n",
    "                              subsample=1, tree_method='exact',\n",
    "                              validate_parameters=1, verbosity=None)\n",
    "\n",
    "XGB_best.fit(x_pca_date, y_pca_date)\n",
    "print(XGB_best.score(x_pca_date, y_pca_date))\n",
    "print(XGB_best.score(X_test_pca,y_test_date))\n",
    "\n"
   ]
  },
  {
   "cell_type": "markdown",
   "id": "61270b6d",
   "metadata": {},
   "source": [
    "### Model Evaluation <a class ='anchor' id = 'p2q1' ></a> \n",
    "<a class ='anchor' id = 'part2' ></a> "
   ]
  },
  {
   "cell_type": "markdown",
   "id": "cd33d7a0",
   "metadata": {},
   "source": [
    "To summarize we have the following R-squared values for our four different models after completing K-fold Cross validation or Grid Searching to optimize and hyper parametize our models.  \n",
    "\n",
    "| R-squared Values for \t| Train+Validation  \t| Test  \t| Difference |\n",
    "|---\t|---\t|---\t|---   |\n",
    "|Linear Regression   \t|0.7601028167376984   \t|0.6918978346039175   \t| 0.068|\n",
    "|KNN Regressor   \t|0.9999999990199652   \t|0.7133892848861417   \t| 0.286|\n",
    "|Gradient Boosting   \t|0.9392525398725114   \t|0.8684749862386013   \t| 0.071|\n",
    "|XG Boosting   \t|0.996886169695937|0.8599095896145994   \t|0.136|"
   ]
  },
  {
   "cell_type": "markdown",
   "id": "dae58fe2",
   "metadata": {},
   "source": [
    "With these in mind, we can see that the model that has the highest test score as well as the least amount of overfitting is the Gradient Boosting model. From here forward we will complete further model evaluation on the Gradient Boosting model. \n",
    "\n",
    "As we are working with continous data, the model evaluation steps that would normally be available to discrete models such as accuracy, and recall would not be available. We work to acheive the highest R-sqared score or at least closest to 1 to find out that our model is performing and predict as well as possible. \n",
    "\n",
    "Further more to find out more about out model we want to find out what are we getting wrong in our predictions rather than what we are getting right. We want to answer the question, among the predictions that we are making incorrectly, are our predictions too small or too big? Are there trends in the types of homes that are failing to be predicted correctly. "
   ]
  },
  {
   "cell_type": "markdown",
   "id": "ed62c46f",
   "metadata": {},
   "source": [
    "To find out the data that is being predicted incorrectly I will use a for loop to separate the rows that are failing. It will have similar structure as bellow. \n",
    "incorrect_prediction =[]\n",
    "\n",
    "\"for i in row: \n",
    "    GRB_fit_date2.predict(X_test_date) != to y_test_date\n",
    "    incorrect_prediction.append(row(i))\"\n",
    "    "
   ]
  },
  {
   "cell_type": "markdown",
   "id": "9ec2a54d",
   "metadata": {},
   "source": [
    "In theory this is what we would look for. However for the purposes of this notebook we will explore a different method as seen in stack overflow \n",
    "https://stackoverflow.com/questions/64693897/iterate-over-dataframe-within-condition-append-list\n",
    "\n",
    "This method first creates a rule and using a tilde we are able to remove any rows that follow this rule. We set our rule to be where the Prediction value os equal to the actual sales price. Anything that followed this rule was removed. "
   ]
  },
  {
   "cell_type": "code",
   "execution_count": 27,
   "id": "d4b3f7e1",
   "metadata": {
    "scrolled": true
   },
   "outputs": [],
   "source": [
    "pred_value=loaded_model.predict(X_test_date)"
   ]
  },
  {
   "cell_type": "code",
   "execution_count": 30,
   "id": "d62ad45f",
   "metadata": {},
   "outputs": [
    {
     "data": {
      "text/plain": [
       "array([2508576.35388193,  607884.35953086,  658946.92949878, ...,\n",
       "       1561063.91753947, 1515167.5028196 , 1583179.74741755])"
      ]
     },
     "execution_count": 30,
     "metadata": {},
     "output_type": "execute_result"
    }
   ],
   "source": [
    "pred_value"
   ]
  },
  {
   "cell_type": "code",
   "execution_count": 28,
   "id": "6c094c3c",
   "metadata": {
    "scrolled": true
   },
   "outputs": [
    {
     "data": {
      "text/html": [
       "<div>\n",
       "<style scoped>\n",
       "    .dataframe tbody tr th:only-of-type {\n",
       "        vertical-align: middle;\n",
       "    }\n",
       "\n",
       "    .dataframe tbody tr th {\n",
       "        vertical-align: top;\n",
       "    }\n",
       "\n",
       "    .dataframe thead th {\n",
       "        text-align: right;\n",
       "    }\n",
       "</style>\n",
       "<table border=\"1\" class=\"dataframe\">\n",
       "  <thead>\n",
       "    <tr style=\"text-align: right;\">\n",
       "      <th></th>\n",
       "      <th>Picture Count</th>\n",
       "      <th>DOM</th>\n",
       "      <th>Tot BR</th>\n",
       "      <th>Tot Baths</th>\n",
       "      <th>TotFlArea</th>\n",
       "      <th>Lot Sz (Sq.Ft.)</th>\n",
       "      <th>Frontage - Feet</th>\n",
       "      <th>#Kitchens</th>\n",
       "      <th>Price_num</th>\n",
       "      <th>Prop_taxes</th>\n",
       "      <th>...</th>\n",
       "      <th>('Williams Lake',)</th>\n",
       "      <th>('Williams Lake - City',)</th>\n",
       "      <th>('Williams Lake - Rural East',)</th>\n",
       "      <th>('Williams Lake - Rural North',)</th>\n",
       "      <th>('Williams Lake - Rural South',)</th>\n",
       "      <th>('Williams Lake - Rural West',)</th>\n",
       "      <th>('Willow River',)</th>\n",
       "      <th>('Wilson Creek',)</th>\n",
       "      <th>('Yale',)</th>\n",
       "      <th>('Yarrow',)</th>\n",
       "    </tr>\n",
       "    <tr>\n",
       "      <th>List Date</th>\n",
       "      <th></th>\n",
       "      <th></th>\n",
       "      <th></th>\n",
       "      <th></th>\n",
       "      <th></th>\n",
       "      <th></th>\n",
       "      <th></th>\n",
       "      <th></th>\n",
       "      <th></th>\n",
       "      <th></th>\n",
       "      <th></th>\n",
       "      <th></th>\n",
       "      <th></th>\n",
       "      <th></th>\n",
       "      <th></th>\n",
       "      <th></th>\n",
       "      <th></th>\n",
       "      <th></th>\n",
       "      <th></th>\n",
       "      <th></th>\n",
       "      <th></th>\n",
       "    </tr>\n",
       "  </thead>\n",
       "  <tbody>\n",
       "    <tr>\n",
       "      <th>2021-06-29</th>\n",
       "      <td>40</td>\n",
       "      <td>111</td>\n",
       "      <td>5</td>\n",
       "      <td>5</td>\n",
       "      <td>3626</td>\n",
       "      <td>795400</td>\n",
       "      <td>66</td>\n",
       "      <td>2</td>\n",
       "      <td>2628000</td>\n",
       "      <td>729100</td>\n",
       "      <td>...</td>\n",
       "      <td>0</td>\n",
       "      <td>0</td>\n",
       "      <td>0</td>\n",
       "      <td>0</td>\n",
       "      <td>0</td>\n",
       "      <td>0</td>\n",
       "      <td>0</td>\n",
       "      <td>0</td>\n",
       "      <td>0</td>\n",
       "      <td>0</td>\n",
       "    </tr>\n",
       "    <tr>\n",
       "      <th>2021-06-29</th>\n",
       "      <td>18</td>\n",
       "      <td>10</td>\n",
       "      <td>5</td>\n",
       "      <td>3</td>\n",
       "      <td>2216</td>\n",
       "      <td>0</td>\n",
       "      <td>0</td>\n",
       "      <td>1</td>\n",
       "      <td>508000</td>\n",
       "      <td>417305</td>\n",
       "      <td>...</td>\n",
       "      <td>1</td>\n",
       "      <td>0</td>\n",
       "      <td>0</td>\n",
       "      <td>0</td>\n",
       "      <td>0</td>\n",
       "      <td>0</td>\n",
       "      <td>0</td>\n",
       "      <td>0</td>\n",
       "      <td>0</td>\n",
       "      <td>0</td>\n",
       "    </tr>\n",
       "    <tr>\n",
       "      <th>2021-06-29</th>\n",
       "      <td>21</td>\n",
       "      <td>2</td>\n",
       "      <td>5</td>\n",
       "      <td>2</td>\n",
       "      <td>2334</td>\n",
       "      <td>500000</td>\n",
       "      <td>50</td>\n",
       "      <td>2</td>\n",
       "      <td>484500</td>\n",
       "      <td>343362</td>\n",
       "      <td>...</td>\n",
       "      <td>0</td>\n",
       "      <td>0</td>\n",
       "      <td>0</td>\n",
       "      <td>0</td>\n",
       "      <td>0</td>\n",
       "      <td>0</td>\n",
       "      <td>0</td>\n",
       "      <td>0</td>\n",
       "      <td>0</td>\n",
       "      <td>0</td>\n",
       "    </tr>\n",
       "    <tr>\n",
       "      <th>2021-06-29</th>\n",
       "      <td>30</td>\n",
       "      <td>15</td>\n",
       "      <td>5</td>\n",
       "      <td>2</td>\n",
       "      <td>2124</td>\n",
       "      <td>0</td>\n",
       "      <td>0</td>\n",
       "      <td>1</td>\n",
       "      <td>412000</td>\n",
       "      <td>385217</td>\n",
       "      <td>...</td>\n",
       "      <td>0</td>\n",
       "      <td>0</td>\n",
       "      <td>0</td>\n",
       "      <td>0</td>\n",
       "      <td>0</td>\n",
       "      <td>0</td>\n",
       "      <td>0</td>\n",
       "      <td>0</td>\n",
       "      <td>0</td>\n",
       "      <td>0</td>\n",
       "    </tr>\n",
       "    <tr>\n",
       "      <th>2021-06-29</th>\n",
       "      <td>32</td>\n",
       "      <td>41</td>\n",
       "      <td>5</td>\n",
       "      <td>3</td>\n",
       "      <td>2670</td>\n",
       "      <td>0</td>\n",
       "      <td>0</td>\n",
       "      <td>1</td>\n",
       "      <td>530000</td>\n",
       "      <td>314008</td>\n",
       "      <td>...</td>\n",
       "      <td>0</td>\n",
       "      <td>0</td>\n",
       "      <td>0</td>\n",
       "      <td>0</td>\n",
       "      <td>0</td>\n",
       "      <td>0</td>\n",
       "      <td>0</td>\n",
       "      <td>0</td>\n",
       "      <td>0</td>\n",
       "      <td>0</td>\n",
       "    </tr>\n",
       "  </tbody>\n",
       "</table>\n",
       "<p>5 rows × 479 columns</p>\n",
       "</div>"
      ],
      "text/plain": [
       "            Picture Count  DOM  Tot BR  Tot Baths  TotFlArea  Lot Sz (Sq.Ft.)  \\\n",
       "List Date                                                                       \n",
       "2021-06-29             40  111       5          5       3626           795400   \n",
       "2021-06-29             18   10       5          3       2216                0   \n",
       "2021-06-29             21    2       5          2       2334           500000   \n",
       "2021-06-29             30   15       5          2       2124                0   \n",
       "2021-06-29             32   41       5          3       2670                0   \n",
       "\n",
       "            Frontage - Feet  #Kitchens  Price_num  Prop_taxes  ...  \\\n",
       "List Date                                                      ...   \n",
       "2021-06-29               66          2    2628000      729100  ...   \n",
       "2021-06-29                0          1     508000      417305  ...   \n",
       "2021-06-29               50          2     484500      343362  ...   \n",
       "2021-06-29                0          1     412000      385217  ...   \n",
       "2021-06-29                0          1     530000      314008  ...   \n",
       "\n",
       "            ('Williams Lake',)  ('Williams Lake - City',)  \\\n",
       "List Date                                                   \n",
       "2021-06-29                   0                          0   \n",
       "2021-06-29                   1                          0   \n",
       "2021-06-29                   0                          0   \n",
       "2021-06-29                   0                          0   \n",
       "2021-06-29                   0                          0   \n",
       "\n",
       "            ('Williams Lake - Rural East',)  ('Williams Lake - Rural North',)  \\\n",
       "List Date                                                                       \n",
       "2021-06-29                                0                                 0   \n",
       "2021-06-29                                0                                 0   \n",
       "2021-06-29                                0                                 0   \n",
       "2021-06-29                                0                                 0   \n",
       "2021-06-29                                0                                 0   \n",
       "\n",
       "            ('Williams Lake - Rural South',)  ('Williams Lake - Rural West',)  \\\n",
       "List Date                                                                       \n",
       "2021-06-29                                 0                                0   \n",
       "2021-06-29                                 0                                0   \n",
       "2021-06-29                                 0                                0   \n",
       "2021-06-29                                 0                                0   \n",
       "2021-06-29                                 0                                0   \n",
       "\n",
       "            ('Willow River',)  ('Wilson Creek',)  ('Yale',)  ('Yarrow',)  \n",
       "List Date                                                                 \n",
       "2021-06-29                  0                  0          0            0  \n",
       "2021-06-29                  0                  0          0            0  \n",
       "2021-06-29                  0                  0          0            0  \n",
       "2021-06-29                  0                  0          0            0  \n",
       "2021-06-29                  0                  0          0            0  \n",
       "\n",
       "[5 rows x 479 columns]"
      ]
     },
     "execution_count": 28,
     "metadata": {},
     "output_type": "execute_result"
    }
   ],
   "source": [
    "df_test.head()"
   ]
  },
  {
   "cell_type": "code",
   "execution_count": 31,
   "id": "5d862d92",
   "metadata": {},
   "outputs": [],
   "source": [
    "df2 = pd.DataFrame(pred_value,index=X_test_date.index)"
   ]
  },
  {
   "cell_type": "code",
   "execution_count": 32,
   "id": "241c09b3",
   "metadata": {},
   "outputs": [],
   "source": [
    "df2.columns = ['Prediction Value']"
   ]
  },
  {
   "cell_type": "code",
   "execution_count": 33,
   "id": "388c460f",
   "metadata": {},
   "outputs": [],
   "source": [
    "comparison = pd.concat([df_test, df2],axis =1)"
   ]
  },
  {
   "cell_type": "code",
   "execution_count": 34,
   "id": "ca6dc1ae",
   "metadata": {},
   "outputs": [
    {
     "data": {
      "text/plain": [
       "List Date\n",
       "2021-06-29    2628000\n",
       "2021-06-29     508000\n",
       "2021-06-29     484500\n",
       "2021-06-29     412000\n",
       "2021-06-29     530000\n",
       "               ...   \n",
       "2022-10-24     810000\n",
       "2022-10-24    1350000\n",
       "2022-10-24    1500000\n",
       "2022-10-24    1620000\n",
       "2022-10-27    1515000\n",
       "Name: Price_num, Length: 26299, dtype: int64"
      ]
     },
     "execution_count": 34,
     "metadata": {},
     "output_type": "execute_result"
    }
   ],
   "source": [
    "comparison['Price_num']"
   ]
  },
  {
   "cell_type": "code",
   "execution_count": 37,
   "id": "00588411",
   "metadata": {},
   "outputs": [],
   "source": [
    "def is_within_errorbounds(actual,predicted):\n",
    "    \"\"\" checks if predicted is within 14% above or bellow actual, and \n",
    "    returns false if it is\n",
    "    \"\"\"\n",
    "    if predicted >= actual*1.14 or predicted <= actual*.86: \n",
    "        return False\n",
    "    else: \n",
    "        return True "
   ]
  },
  {
   "cell_type": "code",
   "execution_count": 40,
   "id": "7f139fee",
   "metadata": {},
   "outputs": [],
   "source": [
    "comparison['is_within_errorbounds'] = comparison[['Price_num','Prediction Value']].apply(lambda x: is_within_errorbounds(x[0],x[1]),axis=1)"
   ]
  },
  {
   "cell_type": "code",
   "execution_count": 42,
   "id": "96108794",
   "metadata": {},
   "outputs": [
    {
     "data": {
      "text/html": [
       "<div>\n",
       "<style scoped>\n",
       "    .dataframe tbody tr th:only-of-type {\n",
       "        vertical-align: middle;\n",
       "    }\n",
       "\n",
       "    .dataframe tbody tr th {\n",
       "        vertical-align: top;\n",
       "    }\n",
       "\n",
       "    .dataframe thead th {\n",
       "        text-align: right;\n",
       "    }\n",
       "</style>\n",
       "<table border=\"1\" class=\"dataframe\">\n",
       "  <thead>\n",
       "    <tr style=\"text-align: right;\">\n",
       "      <th></th>\n",
       "      <th>Picture Count</th>\n",
       "      <th>DOM</th>\n",
       "      <th>Tot BR</th>\n",
       "      <th>Tot Baths</th>\n",
       "      <th>TotFlArea</th>\n",
       "      <th>Lot Sz (Sq.Ft.)</th>\n",
       "      <th>Frontage - Feet</th>\n",
       "      <th>#Kitchens</th>\n",
       "      <th>Price_num</th>\n",
       "      <th>Prop_taxes</th>\n",
       "      <th>...</th>\n",
       "      <th>('Williams Lake - Rural East',)</th>\n",
       "      <th>('Williams Lake - Rural North',)</th>\n",
       "      <th>('Williams Lake - Rural South',)</th>\n",
       "      <th>('Williams Lake - Rural West',)</th>\n",
       "      <th>('Willow River',)</th>\n",
       "      <th>('Wilson Creek',)</th>\n",
       "      <th>('Yale',)</th>\n",
       "      <th>('Yarrow',)</th>\n",
       "      <th>Prediction Value</th>\n",
       "      <th>is_within_errorbounds</th>\n",
       "    </tr>\n",
       "    <tr>\n",
       "      <th>List Date</th>\n",
       "      <th></th>\n",
       "      <th></th>\n",
       "      <th></th>\n",
       "      <th></th>\n",
       "      <th></th>\n",
       "      <th></th>\n",
       "      <th></th>\n",
       "      <th></th>\n",
       "      <th></th>\n",
       "      <th></th>\n",
       "      <th></th>\n",
       "      <th></th>\n",
       "      <th></th>\n",
       "      <th></th>\n",
       "      <th></th>\n",
       "      <th></th>\n",
       "      <th></th>\n",
       "      <th></th>\n",
       "      <th></th>\n",
       "      <th></th>\n",
       "      <th></th>\n",
       "    </tr>\n",
       "  </thead>\n",
       "  <tbody>\n",
       "    <tr>\n",
       "      <th>2021-06-29</th>\n",
       "      <td>18</td>\n",
       "      <td>10</td>\n",
       "      <td>5</td>\n",
       "      <td>3</td>\n",
       "      <td>2216</td>\n",
       "      <td>0</td>\n",
       "      <td>0</td>\n",
       "      <td>1</td>\n",
       "      <td>508000</td>\n",
       "      <td>417305</td>\n",
       "      <td>...</td>\n",
       "      <td>0</td>\n",
       "      <td>0</td>\n",
       "      <td>0</td>\n",
       "      <td>0</td>\n",
       "      <td>0</td>\n",
       "      <td>0</td>\n",
       "      <td>0</td>\n",
       "      <td>0</td>\n",
       "      <td>6.078844e+05</td>\n",
       "      <td>False</td>\n",
       "    </tr>\n",
       "    <tr>\n",
       "      <th>2021-06-29</th>\n",
       "      <td>21</td>\n",
       "      <td>2</td>\n",
       "      <td>5</td>\n",
       "      <td>2</td>\n",
       "      <td>2334</td>\n",
       "      <td>500000</td>\n",
       "      <td>50</td>\n",
       "      <td>2</td>\n",
       "      <td>484500</td>\n",
       "      <td>343362</td>\n",
       "      <td>...</td>\n",
       "      <td>0</td>\n",
       "      <td>0</td>\n",
       "      <td>0</td>\n",
       "      <td>0</td>\n",
       "      <td>0</td>\n",
       "      <td>0</td>\n",
       "      <td>0</td>\n",
       "      <td>0</td>\n",
       "      <td>6.589469e+05</td>\n",
       "      <td>False</td>\n",
       "    </tr>\n",
       "    <tr>\n",
       "      <th>2021-06-29</th>\n",
       "      <td>23</td>\n",
       "      <td>132</td>\n",
       "      <td>3</td>\n",
       "      <td>2</td>\n",
       "      <td>1216</td>\n",
       "      <td>0</td>\n",
       "      <td>0</td>\n",
       "      <td>1</td>\n",
       "      <td>250000</td>\n",
       "      <td>91021</td>\n",
       "      <td>...</td>\n",
       "      <td>0</td>\n",
       "      <td>0</td>\n",
       "      <td>0</td>\n",
       "      <td>0</td>\n",
       "      <td>0</td>\n",
       "      <td>0</td>\n",
       "      <td>0</td>\n",
       "      <td>0</td>\n",
       "      <td>3.168573e+05</td>\n",
       "      <td>False</td>\n",
       "    </tr>\n",
       "    <tr>\n",
       "      <th>2021-06-29</th>\n",
       "      <td>16</td>\n",
       "      <td>56</td>\n",
       "      <td>3</td>\n",
       "      <td>1</td>\n",
       "      <td>1298</td>\n",
       "      <td>871200</td>\n",
       "      <td>0</td>\n",
       "      <td>1</td>\n",
       "      <td>170000</td>\n",
       "      <td>159990</td>\n",
       "      <td>...</td>\n",
       "      <td>0</td>\n",
       "      <td>0</td>\n",
       "      <td>0</td>\n",
       "      <td>0</td>\n",
       "      <td>0</td>\n",
       "      <td>0</td>\n",
       "      <td>0</td>\n",
       "      <td>0</td>\n",
       "      <td>2.663314e+05</td>\n",
       "      <td>False</td>\n",
       "    </tr>\n",
       "    <tr>\n",
       "      <th>2021-06-29</th>\n",
       "      <td>5</td>\n",
       "      <td>11</td>\n",
       "      <td>3</td>\n",
       "      <td>1</td>\n",
       "      <td>952</td>\n",
       "      <td>0</td>\n",
       "      <td>0</td>\n",
       "      <td>1</td>\n",
       "      <td>100000</td>\n",
       "      <td>60580</td>\n",
       "      <td>...</td>\n",
       "      <td>0</td>\n",
       "      <td>0</td>\n",
       "      <td>0</td>\n",
       "      <td>0</td>\n",
       "      <td>0</td>\n",
       "      <td>0</td>\n",
       "      <td>0</td>\n",
       "      <td>0</td>\n",
       "      <td>1.790660e+05</td>\n",
       "      <td>False</td>\n",
       "    </tr>\n",
       "    <tr>\n",
       "      <th>...</th>\n",
       "      <td>...</td>\n",
       "      <td>...</td>\n",
       "      <td>...</td>\n",
       "      <td>...</td>\n",
       "      <td>...</td>\n",
       "      <td>...</td>\n",
       "      <td>...</td>\n",
       "      <td>...</td>\n",
       "      <td>...</td>\n",
       "      <td>...</td>\n",
       "      <td>...</td>\n",
       "      <td>...</td>\n",
       "      <td>...</td>\n",
       "      <td>...</td>\n",
       "      <td>...</td>\n",
       "      <td>...</td>\n",
       "      <td>...</td>\n",
       "      <td>...</td>\n",
       "      <td>...</td>\n",
       "      <td>...</td>\n",
       "      <td>...</td>\n",
       "    </tr>\n",
       "    <tr>\n",
       "      <th>2022-10-20</th>\n",
       "      <td>40</td>\n",
       "      <td>2</td>\n",
       "      <td>5</td>\n",
       "      <td>4</td>\n",
       "      <td>2540</td>\n",
       "      <td>570800</td>\n",
       "      <td>2747</td>\n",
       "      <td>2</td>\n",
       "      <td>1199999</td>\n",
       "      <td>529924</td>\n",
       "      <td>...</td>\n",
       "      <td>0</td>\n",
       "      <td>0</td>\n",
       "      <td>0</td>\n",
       "      <td>0</td>\n",
       "      <td>0</td>\n",
       "      <td>0</td>\n",
       "      <td>0</td>\n",
       "      <td>0</td>\n",
       "      <td>1.421414e+06</td>\n",
       "      <td>False</td>\n",
       "    </tr>\n",
       "    <tr>\n",
       "      <th>2022-10-21</th>\n",
       "      <td>18</td>\n",
       "      <td>1</td>\n",
       "      <td>4</td>\n",
       "      <td>2</td>\n",
       "      <td>2192</td>\n",
       "      <td>0</td>\n",
       "      <td>100</td>\n",
       "      <td>1</td>\n",
       "      <td>1350000</td>\n",
       "      <td>779786</td>\n",
       "      <td>...</td>\n",
       "      <td>0</td>\n",
       "      <td>0</td>\n",
       "      <td>0</td>\n",
       "      <td>0</td>\n",
       "      <td>0</td>\n",
       "      <td>0</td>\n",
       "      <td>0</td>\n",
       "      <td>0</td>\n",
       "      <td>2.353170e+06</td>\n",
       "      <td>False</td>\n",
       "    </tr>\n",
       "    <tr>\n",
       "      <th>2022-10-21</th>\n",
       "      <td>21</td>\n",
       "      <td>2</td>\n",
       "      <td>3</td>\n",
       "      <td>3</td>\n",
       "      <td>2250</td>\n",
       "      <td>439300</td>\n",
       "      <td>4995</td>\n",
       "      <td>1</td>\n",
       "      <td>1620000</td>\n",
       "      <td>243162</td>\n",
       "      <td>...</td>\n",
       "      <td>0</td>\n",
       "      <td>0</td>\n",
       "      <td>0</td>\n",
       "      <td>0</td>\n",
       "      <td>0</td>\n",
       "      <td>0</td>\n",
       "      <td>0</td>\n",
       "      <td>0</td>\n",
       "      <td>1.247717e+06</td>\n",
       "      <td>False</td>\n",
       "    </tr>\n",
       "    <tr>\n",
       "      <th>2022-10-23</th>\n",
       "      <td>39</td>\n",
       "      <td>6</td>\n",
       "      <td>4</td>\n",
       "      <td>5</td>\n",
       "      <td>3215</td>\n",
       "      <td>419000</td>\n",
       "      <td>33</td>\n",
       "      <td>2</td>\n",
       "      <td>2998000</td>\n",
       "      <td>610108</td>\n",
       "      <td>...</td>\n",
       "      <td>0</td>\n",
       "      <td>0</td>\n",
       "      <td>0</td>\n",
       "      <td>0</td>\n",
       "      <td>0</td>\n",
       "      <td>0</td>\n",
       "      <td>0</td>\n",
       "      <td>0</td>\n",
       "      <td>2.450105e+06</td>\n",
       "      <td>False</td>\n",
       "    </tr>\n",
       "    <tr>\n",
       "      <th>2022-10-24</th>\n",
       "      <td>22</td>\n",
       "      <td>4</td>\n",
       "      <td>5</td>\n",
       "      <td>3</td>\n",
       "      <td>2620</td>\n",
       "      <td>683892</td>\n",
       "      <td>70</td>\n",
       "      <td>3</td>\n",
       "      <td>810000</td>\n",
       "      <td>432537</td>\n",
       "      <td>...</td>\n",
       "      <td>0</td>\n",
       "      <td>0</td>\n",
       "      <td>0</td>\n",
       "      <td>0</td>\n",
       "      <td>0</td>\n",
       "      <td>0</td>\n",
       "      <td>0</td>\n",
       "      <td>0</td>\n",
       "      <td>1.167166e+06</td>\n",
       "      <td>False</td>\n",
       "    </tr>\n",
       "  </tbody>\n",
       "</table>\n",
       "<p>12014 rows × 481 columns</p>\n",
       "</div>"
      ],
      "text/plain": [
       "            Picture Count  DOM  Tot BR  Tot Baths  TotFlArea  Lot Sz (Sq.Ft.)  \\\n",
       "List Date                                                                       \n",
       "2021-06-29             18   10       5          3       2216                0   \n",
       "2021-06-29             21    2       5          2       2334           500000   \n",
       "2021-06-29             23  132       3          2       1216                0   \n",
       "2021-06-29             16   56       3          1       1298           871200   \n",
       "2021-06-29              5   11       3          1        952                0   \n",
       "...                   ...  ...     ...        ...        ...              ...   \n",
       "2022-10-20             40    2       5          4       2540           570800   \n",
       "2022-10-21             18    1       4          2       2192                0   \n",
       "2022-10-21             21    2       3          3       2250           439300   \n",
       "2022-10-23             39    6       4          5       3215           419000   \n",
       "2022-10-24             22    4       5          3       2620           683892   \n",
       "\n",
       "            Frontage - Feet  #Kitchens  Price_num  Prop_taxes  ...  \\\n",
       "List Date                                                      ...   \n",
       "2021-06-29                0          1     508000      417305  ...   \n",
       "2021-06-29               50          2     484500      343362  ...   \n",
       "2021-06-29                0          1     250000       91021  ...   \n",
       "2021-06-29                0          1     170000      159990  ...   \n",
       "2021-06-29                0          1     100000       60580  ...   \n",
       "...                     ...        ...        ...         ...  ...   \n",
       "2022-10-20             2747          2    1199999      529924  ...   \n",
       "2022-10-21              100          1    1350000      779786  ...   \n",
       "2022-10-21             4995          1    1620000      243162  ...   \n",
       "2022-10-23               33          2    2998000      610108  ...   \n",
       "2022-10-24               70          3     810000      432537  ...   \n",
       "\n",
       "            ('Williams Lake - Rural East',)  ('Williams Lake - Rural North',)  \\\n",
       "List Date                                                                       \n",
       "2021-06-29                                0                                 0   \n",
       "2021-06-29                                0                                 0   \n",
       "2021-06-29                                0                                 0   \n",
       "2021-06-29                                0                                 0   \n",
       "2021-06-29                                0                                 0   \n",
       "...                                     ...                               ...   \n",
       "2022-10-20                                0                                 0   \n",
       "2022-10-21                                0                                 0   \n",
       "2022-10-21                                0                                 0   \n",
       "2022-10-23                                0                                 0   \n",
       "2022-10-24                                0                                 0   \n",
       "\n",
       "            ('Williams Lake - Rural South',)  ('Williams Lake - Rural West',)  \\\n",
       "List Date                                                                       \n",
       "2021-06-29                                 0                                0   \n",
       "2021-06-29                                 0                                0   \n",
       "2021-06-29                                 0                                0   \n",
       "2021-06-29                                 0                                0   \n",
       "2021-06-29                                 0                                0   \n",
       "...                                      ...                              ...   \n",
       "2022-10-20                                 0                                0   \n",
       "2022-10-21                                 0                                0   \n",
       "2022-10-21                                 0                                0   \n",
       "2022-10-23                                 0                                0   \n",
       "2022-10-24                                 0                                0   \n",
       "\n",
       "            ('Willow River',)  ('Wilson Creek',)  ('Yale',)  ('Yarrow',)  \\\n",
       "List Date                                                                  \n",
       "2021-06-29                  0                  0          0            0   \n",
       "2021-06-29                  0                  0          0            0   \n",
       "2021-06-29                  0                  0          0            0   \n",
       "2021-06-29                  0                  0          0            0   \n",
       "2021-06-29                  0                  0          0            0   \n",
       "...                       ...                ...        ...          ...   \n",
       "2022-10-20                  0                  0          0            0   \n",
       "2022-10-21                  0                  0          0            0   \n",
       "2022-10-21                  0                  0          0            0   \n",
       "2022-10-23                  0                  0          0            0   \n",
       "2022-10-24                  0                  0          0            0   \n",
       "\n",
       "            Prediction Value  is_within_errorbounds  \n",
       "List Date                                            \n",
       "2021-06-29      6.078844e+05                  False  \n",
       "2021-06-29      6.589469e+05                  False  \n",
       "2021-06-29      3.168573e+05                  False  \n",
       "2021-06-29      2.663314e+05                  False  \n",
       "2021-06-29      1.790660e+05                  False  \n",
       "...                      ...                    ...  \n",
       "2022-10-20      1.421414e+06                  False  \n",
       "2022-10-21      2.353170e+06                  False  \n",
       "2022-10-21      1.247717e+06                  False  \n",
       "2022-10-23      2.450105e+06                  False  \n",
       "2022-10-24      1.167166e+06                  False  \n",
       "\n",
       "[12014 rows x 481 columns]"
      ]
     },
     "execution_count": 42,
     "metadata": {},
     "output_type": "execute_result"
    }
   ],
   "source": [
    "comparison[comparison['is_within_errorbounds'] == False]"
   ]
  },
  {
   "cell_type": "code",
   "execution_count": 141,
   "id": "892b7f49",
   "metadata": {},
   "outputs": [],
   "source": [
    "rows_to_delete = (\n",
    "    (comparison['Price_num'] == comparison['Prediction Value']))"
   ]
  },
  {
   "cell_type": "code",
   "execution_count": 143,
   "id": "e56a5880",
   "metadata": {},
   "outputs": [],
   "source": [
    "new_test=comparison[~rows_to_delete]"
   ]
  },
  {
   "cell_type": "code",
   "execution_count": 144,
   "id": "7ee87945",
   "metadata": {
    "scrolled": true
   },
   "outputs": [
    {
     "data": {
      "text/html": [
       "<div>\n",
       "<style scoped>\n",
       "    .dataframe tbody tr th:only-of-type {\n",
       "        vertical-align: middle;\n",
       "    }\n",
       "\n",
       "    .dataframe tbody tr th {\n",
       "        vertical-align: top;\n",
       "    }\n",
       "\n",
       "    .dataframe thead th {\n",
       "        text-align: right;\n",
       "    }\n",
       "</style>\n",
       "<table border=\"1\" class=\"dataframe\">\n",
       "  <thead>\n",
       "    <tr style=\"text-align: right;\">\n",
       "      <th></th>\n",
       "      <th>Price_num</th>\n",
       "      <th>Prediction Value</th>\n",
       "    </tr>\n",
       "    <tr>\n",
       "      <th>List Date</th>\n",
       "      <th></th>\n",
       "      <th></th>\n",
       "    </tr>\n",
       "  </thead>\n",
       "  <tbody>\n",
       "    <tr>\n",
       "      <th>2021-06-29</th>\n",
       "      <td>2628000</td>\n",
       "      <td>2.508576e+06</td>\n",
       "    </tr>\n",
       "    <tr>\n",
       "      <th>2021-06-29</th>\n",
       "      <td>508000</td>\n",
       "      <td>6.078844e+05</td>\n",
       "    </tr>\n",
       "    <tr>\n",
       "      <th>2021-06-29</th>\n",
       "      <td>484500</td>\n",
       "      <td>6.589469e+05</td>\n",
       "    </tr>\n",
       "    <tr>\n",
       "      <th>2021-06-29</th>\n",
       "      <td>412000</td>\n",
       "      <td>4.529409e+05</td>\n",
       "    </tr>\n",
       "    <tr>\n",
       "      <th>2021-06-29</th>\n",
       "      <td>530000</td>\n",
       "      <td>4.641055e+05</td>\n",
       "    </tr>\n",
       "    <tr>\n",
       "      <th>...</th>\n",
       "      <td>...</td>\n",
       "      <td>...</td>\n",
       "    </tr>\n",
       "    <tr>\n",
       "      <th>2022-10-24</th>\n",
       "      <td>810000</td>\n",
       "      <td>1.167166e+06</td>\n",
       "    </tr>\n",
       "    <tr>\n",
       "      <th>2022-10-24</th>\n",
       "      <td>1350000</td>\n",
       "      <td>1.329503e+06</td>\n",
       "    </tr>\n",
       "    <tr>\n",
       "      <th>2022-10-24</th>\n",
       "      <td>1500000</td>\n",
       "      <td>1.561064e+06</td>\n",
       "    </tr>\n",
       "    <tr>\n",
       "      <th>2022-10-24</th>\n",
       "      <td>1620000</td>\n",
       "      <td>1.515168e+06</td>\n",
       "    </tr>\n",
       "    <tr>\n",
       "      <th>2022-10-27</th>\n",
       "      <td>1515000</td>\n",
       "      <td>1.583180e+06</td>\n",
       "    </tr>\n",
       "  </tbody>\n",
       "</table>\n",
       "<p>26299 rows × 2 columns</p>\n",
       "</div>"
      ],
      "text/plain": [
       "            Price_num  Prediction Value\n",
       "List Date                              \n",
       "2021-06-29    2628000      2.508576e+06\n",
       "2021-06-29     508000      6.078844e+05\n",
       "2021-06-29     484500      6.589469e+05\n",
       "2021-06-29     412000      4.529409e+05\n",
       "2021-06-29     530000      4.641055e+05\n",
       "...               ...               ...\n",
       "2022-10-24     810000      1.167166e+06\n",
       "2022-10-24    1350000      1.329503e+06\n",
       "2022-10-24    1500000      1.561064e+06\n",
       "2022-10-24    1620000      1.515168e+06\n",
       "2022-10-27    1515000      1.583180e+06\n",
       "\n",
       "[26299 rows x 2 columns]"
      ]
     },
     "execution_count": 144,
     "metadata": {},
     "output_type": "execute_result"
    }
   ],
   "source": [
    "new_test[['Price_num','Prediction Value']]"
   ]
  },
  {
   "attachments": {
    "Screen%20Shot%202022-12-11%20at%209.55.31%20PM.png": {
     "image/png": "[encoded data removed]"
    }
   },
   "cell_type": "markdown",
   "id": "8f0c30d9",
   "metadata": {},
   "source": [
    "![Screen%20Shot%202022-12-11%20at%209.55.31%20PM.png](attachment:Screen%20Shot%202022-12-11%20at%209.55.31%20PM.png)"
   ]
  },
  {
   "cell_type": "markdown",
   "id": "4985a801",
   "metadata": {},
   "source": [
    "We see that there is a more of a spread in our data from the actual sales in comparison to the predicted values. Our model has reduced the variance on how these houses are predicted in comparison to the actual values. Although we attempoted to extract the transactions with the exact predicted and actual sales price we were unable to do so. What we can learn is that our model can get within 87% of the actual sales price of the home. "
   ]
  }
 ],
 "metadata": {
  "kernelspec": {
   "display_name": "boosting",
   "language": "python",
   "name": "boosting"
  },
  "language_info": {
   "codemirror_mode": {
    "name": "ipython",
    "version": 3
   },
   "file_extension": ".py",
   "mimetype": "text/x-python",
   "name": "python",
   "nbconvert_exporter": "python",
   "pygments_lexer": "ipython3",
   "version": "3.8.15"
  }
 },
 "nbformat": 4,
 "nbformat_minor": 5
}
